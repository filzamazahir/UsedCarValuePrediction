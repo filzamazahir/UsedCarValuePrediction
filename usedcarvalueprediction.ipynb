{
 "cells": [
  {
   "cell_type": "markdown",
   "metadata": {},
   "source": [
    "# Rusty Bargain Used Car  - Value Prediction"
   ]
  },
  {
   "cell_type": "markdown",
   "metadata": {},
   "source": [
    "## Introduction"
   ]
  },
  {
   "cell_type": "markdown",
   "metadata": {},
   "source": [
    "Rusty Bargain used car sales service is developing an app to attract new customers. In that app, you can quickly find out the market value of your car. You have access to historical data: technical specifications, trim versions, and prices. You need to build the model to determine the value. \n",
    "\n",
    "Rusty Bargain is interested in:\n",
    "\n",
    "- the quality of the prediction;\n",
    "- the speed of the prediction;\n",
    "- the time required for training"
   ]
  },
  {
   "cell_type": "markdown",
   "metadata": {},
   "source": [
    "## Data preparation"
   ]
  },
  {
   "cell_type": "code",
   "execution_count": 1,
   "metadata": {},
   "outputs": [],
   "source": [
    "# Import Libraries\n",
    "\n",
    "import pandas as pd\n",
    "import numpy as np\n",
    "\n",
    "from matplotlib import pyplot as plt\n",
    "from sklearn.preprocessing import OneHotEncoder\n",
    "from sklearn.preprocessing import StandardScaler\n",
    "from sklearn.model_selection import train_test_split\n",
    "from sklearn.metrics import mean_squared_error\n",
    "\n",
    "from sklearn.linear_model import LinearRegression\n",
    "from sklearn.ensemble import RandomForestRegressor\n",
    "import lightgbm as lgb\n",
    "from catboost import CatBoostRegressor\n",
    "import xgboost as xgb\n",
    "\n",
    "from sklearn.model_selection import RandomizedSearchCV\n",
    "# from sklearn.model_selection import GridSearchCV\n",
    "from sklearn.preprocessing import LabelEncoder\n",
    "\n",
    "import time"
   ]
  },
  {
   "cell_type": "code",
   "execution_count": 2,
   "metadata": {},
   "outputs": [
    {
     "data": {
      "text/html": [
       "<div>\n",
       "<style scoped>\n",
       "    .dataframe tbody tr th:only-of-type {\n",
       "        vertical-align: middle;\n",
       "    }\n",
       "\n",
       "    .dataframe tbody tr th {\n",
       "        vertical-align: top;\n",
       "    }\n",
       "\n",
       "    .dataframe thead th {\n",
       "        text-align: right;\n",
       "    }\n",
       "</style>\n",
       "<table border=\"1\" class=\"dataframe\">\n",
       "  <thead>\n",
       "    <tr style=\"text-align: right;\">\n",
       "      <th></th>\n",
       "      <th>DateCrawled</th>\n",
       "      <th>Price</th>\n",
       "      <th>VehicleType</th>\n",
       "      <th>RegistrationYear</th>\n",
       "      <th>Gearbox</th>\n",
       "      <th>Power</th>\n",
       "      <th>Model</th>\n",
       "      <th>Mileage</th>\n",
       "      <th>RegistrationMonth</th>\n",
       "      <th>FuelType</th>\n",
       "      <th>Brand</th>\n",
       "      <th>NotRepaired</th>\n",
       "      <th>DateCreated</th>\n",
       "      <th>NumberOfPictures</th>\n",
       "      <th>PostalCode</th>\n",
       "      <th>LastSeen</th>\n",
       "    </tr>\n",
       "  </thead>\n",
       "  <tbody>\n",
       "    <tr>\n",
       "      <th>0</th>\n",
       "      <td>24/03/2016 11:52</td>\n",
       "      <td>480</td>\n",
       "      <td>NaN</td>\n",
       "      <td>1993</td>\n",
       "      <td>manual</td>\n",
       "      <td>0</td>\n",
       "      <td>golf</td>\n",
       "      <td>150000</td>\n",
       "      <td>0</td>\n",
       "      <td>petrol</td>\n",
       "      <td>volkswagen</td>\n",
       "      <td>NaN</td>\n",
       "      <td>24/03/2016 00:00</td>\n",
       "      <td>0</td>\n",
       "      <td>70435</td>\n",
       "      <td>07/04/2016 03:16</td>\n",
       "    </tr>\n",
       "    <tr>\n",
       "      <th>1</th>\n",
       "      <td>24/03/2016 10:58</td>\n",
       "      <td>18300</td>\n",
       "      <td>coupe</td>\n",
       "      <td>2011</td>\n",
       "      <td>manual</td>\n",
       "      <td>190</td>\n",
       "      <td>NaN</td>\n",
       "      <td>125000</td>\n",
       "      <td>5</td>\n",
       "      <td>gasoline</td>\n",
       "      <td>audi</td>\n",
       "      <td>yes</td>\n",
       "      <td>24/03/2016 00:00</td>\n",
       "      <td>0</td>\n",
       "      <td>66954</td>\n",
       "      <td>07/04/2016 01:46</td>\n",
       "    </tr>\n",
       "    <tr>\n",
       "      <th>2</th>\n",
       "      <td>14/03/2016 12:52</td>\n",
       "      <td>9800</td>\n",
       "      <td>suv</td>\n",
       "      <td>2004</td>\n",
       "      <td>auto</td>\n",
       "      <td>163</td>\n",
       "      <td>grand</td>\n",
       "      <td>125000</td>\n",
       "      <td>8</td>\n",
       "      <td>gasoline</td>\n",
       "      <td>jeep</td>\n",
       "      <td>NaN</td>\n",
       "      <td>14/03/2016 00:00</td>\n",
       "      <td>0</td>\n",
       "      <td>90480</td>\n",
       "      <td>05/04/2016 12:47</td>\n",
       "    </tr>\n",
       "    <tr>\n",
       "      <th>3</th>\n",
       "      <td>17/03/2016 16:54</td>\n",
       "      <td>1500</td>\n",
       "      <td>small</td>\n",
       "      <td>2001</td>\n",
       "      <td>manual</td>\n",
       "      <td>75</td>\n",
       "      <td>golf</td>\n",
       "      <td>150000</td>\n",
       "      <td>6</td>\n",
       "      <td>petrol</td>\n",
       "      <td>volkswagen</td>\n",
       "      <td>no</td>\n",
       "      <td>17/03/2016 00:00</td>\n",
       "      <td>0</td>\n",
       "      <td>91074</td>\n",
       "      <td>17/03/2016 17:40</td>\n",
       "    </tr>\n",
       "    <tr>\n",
       "      <th>4</th>\n",
       "      <td>31/03/2016 17:25</td>\n",
       "      <td>3600</td>\n",
       "      <td>small</td>\n",
       "      <td>2008</td>\n",
       "      <td>manual</td>\n",
       "      <td>69</td>\n",
       "      <td>fabia</td>\n",
       "      <td>90000</td>\n",
       "      <td>7</td>\n",
       "      <td>gasoline</td>\n",
       "      <td>skoda</td>\n",
       "      <td>no</td>\n",
       "      <td>31/03/2016 00:00</td>\n",
       "      <td>0</td>\n",
       "      <td>60437</td>\n",
       "      <td>06/04/2016 10:17</td>\n",
       "    </tr>\n",
       "    <tr>\n",
       "      <th>...</th>\n",
       "      <td>...</td>\n",
       "      <td>...</td>\n",
       "      <td>...</td>\n",
       "      <td>...</td>\n",
       "      <td>...</td>\n",
       "      <td>...</td>\n",
       "      <td>...</td>\n",
       "      <td>...</td>\n",
       "      <td>...</td>\n",
       "      <td>...</td>\n",
       "      <td>...</td>\n",
       "      <td>...</td>\n",
       "      <td>...</td>\n",
       "      <td>...</td>\n",
       "      <td>...</td>\n",
       "      <td>...</td>\n",
       "    </tr>\n",
       "    <tr>\n",
       "      <th>354364</th>\n",
       "      <td>21/03/2016 09:50</td>\n",
       "      <td>0</td>\n",
       "      <td>NaN</td>\n",
       "      <td>2005</td>\n",
       "      <td>manual</td>\n",
       "      <td>0</td>\n",
       "      <td>colt</td>\n",
       "      <td>150000</td>\n",
       "      <td>7</td>\n",
       "      <td>petrol</td>\n",
       "      <td>mitsubishi</td>\n",
       "      <td>yes</td>\n",
       "      <td>21/03/2016 00:00</td>\n",
       "      <td>0</td>\n",
       "      <td>2694</td>\n",
       "      <td>21/03/2016 10:42</td>\n",
       "    </tr>\n",
       "    <tr>\n",
       "      <th>354365</th>\n",
       "      <td>14/03/2016 17:48</td>\n",
       "      <td>2200</td>\n",
       "      <td>NaN</td>\n",
       "      <td>2005</td>\n",
       "      <td>NaN</td>\n",
       "      <td>0</td>\n",
       "      <td>NaN</td>\n",
       "      <td>20000</td>\n",
       "      <td>1</td>\n",
       "      <td>NaN</td>\n",
       "      <td>sonstige_autos</td>\n",
       "      <td>NaN</td>\n",
       "      <td>14/03/2016 00:00</td>\n",
       "      <td>0</td>\n",
       "      <td>39576</td>\n",
       "      <td>06/04/2016 00:46</td>\n",
       "    </tr>\n",
       "    <tr>\n",
       "      <th>354366</th>\n",
       "      <td>05/03/2016 19:56</td>\n",
       "      <td>1199</td>\n",
       "      <td>convertible</td>\n",
       "      <td>2000</td>\n",
       "      <td>auto</td>\n",
       "      <td>101</td>\n",
       "      <td>fortwo</td>\n",
       "      <td>125000</td>\n",
       "      <td>3</td>\n",
       "      <td>petrol</td>\n",
       "      <td>smart</td>\n",
       "      <td>no</td>\n",
       "      <td>05/03/2016 00:00</td>\n",
       "      <td>0</td>\n",
       "      <td>26135</td>\n",
       "      <td>11/03/2016 18:17</td>\n",
       "    </tr>\n",
       "    <tr>\n",
       "      <th>354367</th>\n",
       "      <td>19/03/2016 18:57</td>\n",
       "      <td>9200</td>\n",
       "      <td>bus</td>\n",
       "      <td>1996</td>\n",
       "      <td>manual</td>\n",
       "      <td>102</td>\n",
       "      <td>transporter</td>\n",
       "      <td>150000</td>\n",
       "      <td>3</td>\n",
       "      <td>gasoline</td>\n",
       "      <td>volkswagen</td>\n",
       "      <td>no</td>\n",
       "      <td>19/03/2016 00:00</td>\n",
       "      <td>0</td>\n",
       "      <td>87439</td>\n",
       "      <td>07/04/2016 07:15</td>\n",
       "    </tr>\n",
       "    <tr>\n",
       "      <th>354368</th>\n",
       "      <td>20/03/2016 19:41</td>\n",
       "      <td>3400</td>\n",
       "      <td>wagon</td>\n",
       "      <td>2002</td>\n",
       "      <td>manual</td>\n",
       "      <td>100</td>\n",
       "      <td>golf</td>\n",
       "      <td>150000</td>\n",
       "      <td>6</td>\n",
       "      <td>gasoline</td>\n",
       "      <td>volkswagen</td>\n",
       "      <td>NaN</td>\n",
       "      <td>20/03/2016 00:00</td>\n",
       "      <td>0</td>\n",
       "      <td>40764</td>\n",
       "      <td>24/03/2016 12:45</td>\n",
       "    </tr>\n",
       "  </tbody>\n",
       "</table>\n",
       "<p>354369 rows × 16 columns</p>\n",
       "</div>"
      ],
      "text/plain": [
       "             DateCrawled  Price  VehicleType  RegistrationYear Gearbox  Power  \\\n",
       "0       24/03/2016 11:52    480          NaN              1993  manual      0   \n",
       "1       24/03/2016 10:58  18300        coupe              2011  manual    190   \n",
       "2       14/03/2016 12:52   9800          suv              2004    auto    163   \n",
       "3       17/03/2016 16:54   1500        small              2001  manual     75   \n",
       "4       31/03/2016 17:25   3600        small              2008  manual     69   \n",
       "...                  ...    ...          ...               ...     ...    ...   \n",
       "354364  21/03/2016 09:50      0          NaN              2005  manual      0   \n",
       "354365  14/03/2016 17:48   2200          NaN              2005     NaN      0   \n",
       "354366  05/03/2016 19:56   1199  convertible              2000    auto    101   \n",
       "354367  19/03/2016 18:57   9200          bus              1996  manual    102   \n",
       "354368  20/03/2016 19:41   3400        wagon              2002  manual    100   \n",
       "\n",
       "              Model  Mileage  RegistrationMonth  FuelType           Brand  \\\n",
       "0              golf   150000                  0    petrol      volkswagen   \n",
       "1               NaN   125000                  5  gasoline            audi   \n",
       "2             grand   125000                  8  gasoline            jeep   \n",
       "3              golf   150000                  6    petrol      volkswagen   \n",
       "4             fabia    90000                  7  gasoline           skoda   \n",
       "...             ...      ...                ...       ...             ...   \n",
       "354364         colt   150000                  7    petrol      mitsubishi   \n",
       "354365          NaN    20000                  1       NaN  sonstige_autos   \n",
       "354366       fortwo   125000                  3    petrol           smart   \n",
       "354367  transporter   150000                  3  gasoline      volkswagen   \n",
       "354368         golf   150000                  6  gasoline      volkswagen   \n",
       "\n",
       "       NotRepaired       DateCreated  NumberOfPictures  PostalCode  \\\n",
       "0              NaN  24/03/2016 00:00                 0       70435   \n",
       "1              yes  24/03/2016 00:00                 0       66954   \n",
       "2              NaN  14/03/2016 00:00                 0       90480   \n",
       "3               no  17/03/2016 00:00                 0       91074   \n",
       "4               no  31/03/2016 00:00                 0       60437   \n",
       "...            ...               ...               ...         ...   \n",
       "354364         yes  21/03/2016 00:00                 0        2694   \n",
       "354365         NaN  14/03/2016 00:00                 0       39576   \n",
       "354366          no  05/03/2016 00:00                 0       26135   \n",
       "354367          no  19/03/2016 00:00                 0       87439   \n",
       "354368         NaN  20/03/2016 00:00                 0       40764   \n",
       "\n",
       "                LastSeen  \n",
       "0       07/04/2016 03:16  \n",
       "1       07/04/2016 01:46  \n",
       "2       05/04/2016 12:47  \n",
       "3       17/03/2016 17:40  \n",
       "4       06/04/2016 10:17  \n",
       "...                  ...  \n",
       "354364  21/03/2016 10:42  \n",
       "354365  06/04/2016 00:46  \n",
       "354366  11/03/2016 18:17  \n",
       "354367  07/04/2016 07:15  \n",
       "354368  24/03/2016 12:45  \n",
       "\n",
       "[354369 rows x 16 columns]"
      ]
     },
     "execution_count": 2,
     "metadata": {},
     "output_type": "execute_result"
    }
   ],
   "source": [
    "# Load Dataset\n",
    "\n",
    "df = pd.read_csv('/datasets/car_data.csv')\n",
    "df.sample(10)"
   ]
  },
  {
   "cell_type": "code",
   "execution_count": 3,
   "metadata": {},
   "outputs": [
    {
     "name": "stdout",
     "output_type": "stream",
     "text": [
      "DateCrawled              0\n",
      "Price                    0\n",
      "VehicleType          37490\n",
      "RegistrationYear         0\n",
      "Gearbox              19833\n",
      "Power                    0\n",
      "Model                19705\n",
      "Mileage                  0\n",
      "RegistrationMonth        0\n",
      "FuelType             32895\n",
      "Brand                    0\n",
      "NotRepaired          71154\n",
      "DateCreated              0\n",
      "NumberOfPictures         0\n",
      "PostalCode               0\n",
      "LastSeen                 0\n",
      "dtype: int64\n"
     ]
    }
   ],
   "source": [
    "# Check for missing values\n",
    "\n",
    "print(df.isna().sum())"
   ]
  },
  {
   "cell_type": "code",
   "execution_count": 4,
   "metadata": {},
   "outputs": [
    {
     "name": "stdout",
     "output_type": "stream",
     "text": [
      "DateCrawled           0.00\n",
      "Price                 0.00\n",
      "VehicleType          10.58\n",
      "RegistrationYear      0.00\n",
      "Gearbox               5.60\n",
      "Power                 0.00\n",
      "Model                 5.56\n",
      "Mileage               0.00\n",
      "RegistrationMonth     0.00\n",
      "FuelType              9.28\n",
      "Brand                 0.00\n",
      "NotRepaired          20.08\n",
      "DateCreated           0.00\n",
      "NumberOfPictures      0.00\n",
      "PostalCode            0.00\n",
      "LastSeen              0.00\n",
      "dtype: float64\n"
     ]
    }
   ],
   "source": [
    "# Percent of values missing\n",
    "\n",
    "percent_missing = df.isnull().sum() * 100 / len(df)\n",
    "print(round(percent_missing,2))"
   ]
  },
  {
   "cell_type": "markdown",
   "metadata": {},
   "source": [
    "There are significant missing values, with some columns even having as high as 10 or 20% of their values missing. So the missing value data is not dropped, but rather filled in with the mean or mode depending on the type of data.\n",
    "\n",
    "Models with missing values will be filled with unknown as they cannot be filled with mode."
   ]
  },
  {
   "cell_type": "code",
   "execution_count": 5,
   "metadata": {},
   "outputs": [],
   "source": [
    "# Deal with missing values\n",
    "\n",
    "# 'Model', 'VehicleType', 'Gearbox','FuelType', and 'NotRepaired' columns are filled with 'Unknown'\n",
    "df['Model'] = df['Model'].fillna('other')\n",
    "df['VehicleType'] = df['VehicleType'].fillna('unknown')\n",
    "df['Gearbox'] = df['Gearbox'].fillna('unknown')\n",
    "df['FuelType'] = df['FuelType'].fillna('unknown')\n",
    "df['NotRepaired'] = df['NotRepaired'].fillna('unknown')\n"
   ]
  },
  {
   "cell_type": "code",
   "execution_count": 6,
   "metadata": {},
   "outputs": [
    {
     "name": "stdout",
     "output_type": "stream",
     "text": [
      "DateCrawled          0\n",
      "Price                0\n",
      "VehicleType          0\n",
      "RegistrationYear     0\n",
      "Gearbox              0\n",
      "Power                0\n",
      "Model                0\n",
      "Mileage              0\n",
      "RegistrationMonth    0\n",
      "FuelType             0\n",
      "Brand                0\n",
      "NotRepaired          0\n",
      "DateCreated          0\n",
      "NumberOfPictures     0\n",
      "PostalCode           0\n",
      "LastSeen             0\n",
      "dtype: int64\n"
     ]
    }
   ],
   "source": [
    "# Ensure all missing values are dealt with\n",
    "\n",
    "print(df.isna().sum())"
   ]
  },
  {
   "cell_type": "code",
   "execution_count": 7,
   "metadata": {},
   "outputs": [
    {
     "name": "stdout",
     "output_type": "stream",
     "text": [
      "263\n"
     ]
    }
   ],
   "source": [
    "# Check for duplicates\n",
    "\n",
    "print(df.duplicated().sum())"
   ]
  },
  {
   "cell_type": "code",
   "execution_count": 8,
   "metadata": {},
   "outputs": [
    {
     "name": "stdout",
     "output_type": "stream",
     "text": [
      "0\n"
     ]
    }
   ],
   "source": [
    "# Remove duplicates\n",
    "\n",
    "df = df.drop_duplicates()\n",
    "print(df.duplicated().sum())"
   ]
  },
  {
   "cell_type": "code",
   "execution_count": 9,
   "metadata": {},
   "outputs": [
    {
     "name": "stdout",
     "output_type": "stream",
     "text": [
      "<class 'pandas.core.frame.DataFrame'>\n",
      "Int64Index: 354106 entries, 0 to 354368\n",
      "Data columns (total 16 columns):\n",
      " #   Column             Non-Null Count   Dtype \n",
      "---  ------             --------------   ----- \n",
      " 0   DateCrawled        354106 non-null  object\n",
      " 1   Price              354106 non-null  int64 \n",
      " 2   VehicleType        354106 non-null  object\n",
      " 3   RegistrationYear   354106 non-null  int64 \n",
      " 4   Gearbox            354106 non-null  object\n",
      " 5   Power              354106 non-null  int64 \n",
      " 6   Model              354106 non-null  object\n",
      " 7   Mileage            354106 non-null  int64 \n",
      " 8   RegistrationMonth  354106 non-null  int64 \n",
      " 9   FuelType           354106 non-null  object\n",
      " 10  Brand              354106 non-null  object\n",
      " 11  NotRepaired        354106 non-null  object\n",
      " 12  DateCreated        354106 non-null  object\n",
      " 13  NumberOfPictures   354106 non-null  int64 \n",
      " 14  PostalCode         354106 non-null  int64 \n",
      " 15  LastSeen           354106 non-null  object\n",
      "dtypes: int64(7), object(9)\n",
      "memory usage: 45.9+ MB\n",
      "None\n"
     ]
    }
   ],
   "source": [
    "# Check Data Types\n",
    "\n",
    "print(df.info())"
   ]
  },
  {
   "cell_type": "code",
   "execution_count": 10,
   "metadata": {},
   "outputs": [
    {
     "name": "stderr",
     "output_type": "stream",
     "text": [
      "/tmp/ipykernel_32/2589485666.py:4: SettingWithCopyWarning: \n",
      "A value is trying to be set on a copy of a slice from a DataFrame.\n",
      "Try using .loc[row_indexer,col_indexer] = value instead\n",
      "\n",
      "See the caveats in the documentation: https://pandas.pydata.org/pandas-docs/stable/user_guide/indexing.html#returning-a-view-versus-a-copy\n",
      "  df['DateCrawled'] = pd.to_datetime(df['DateCrawled'], format = '%d/%m/%Y %H:%M')\n",
      "/tmp/ipykernel_32/2589485666.py:5: SettingWithCopyWarning: \n",
      "A value is trying to be set on a copy of a slice from a DataFrame.\n",
      "Try using .loc[row_indexer,col_indexer] = value instead\n",
      "\n",
      "See the caveats in the documentation: https://pandas.pydata.org/pandas-docs/stable/user_guide/indexing.html#returning-a-view-versus-a-copy\n",
      "  df['DateCreated'] = pd.to_datetime(df['DateCreated'], format = '%d/%m/%Y %H:%M')\n"
     ]
    },
    {
     "name": "stdout",
     "output_type": "stream",
     "text": [
      "<class 'pandas.core.frame.DataFrame'>\n",
      "Int64Index: 354106 entries, 0 to 354368\n",
      "Data columns (total 16 columns):\n",
      " #   Column             Non-Null Count   Dtype         \n",
      "---  ------             --------------   -----         \n",
      " 0   DateCrawled        354106 non-null  datetime64[ns]\n",
      " 1   Price              354106 non-null  int64         \n",
      " 2   VehicleType        354106 non-null  object        \n",
      " 3   RegistrationYear   354106 non-null  int64         \n",
      " 4   Gearbox            354106 non-null  object        \n",
      " 5   Power              354106 non-null  int64         \n",
      " 6   Model              354106 non-null  object        \n",
      " 7   Mileage            354106 non-null  int64         \n",
      " 8   RegistrationMonth  354106 non-null  int64         \n",
      " 9   FuelType           354106 non-null  object        \n",
      " 10  Brand              354106 non-null  object        \n",
      " 11  NotRepaired        354106 non-null  object        \n",
      " 12  DateCreated        354106 non-null  datetime64[ns]\n",
      " 13  NumberOfPictures   354106 non-null  int64         \n",
      " 14  PostalCode         354106 non-null  int64         \n",
      " 15  LastSeen           354106 non-null  datetime64[ns]\n",
      "dtypes: datetime64[ns](3), int64(7), object(6)\n",
      "memory usage: 45.9+ MB\n",
      "None\n"
     ]
    },
    {
     "name": "stderr",
     "output_type": "stream",
     "text": [
      "/tmp/ipykernel_32/2589485666.py:6: SettingWithCopyWarning: \n",
      "A value is trying to be set on a copy of a slice from a DataFrame.\n",
      "Try using .loc[row_indexer,col_indexer] = value instead\n",
      "\n",
      "See the caveats in the documentation: https://pandas.pydata.org/pandas-docs/stable/user_guide/indexing.html#returning-a-view-versus-a-copy\n",
      "  df['LastSeen'] = pd.to_datetime(df['LastSeen'], format = '%d/%m/%Y %H:%M')\n"
     ]
    }
   ],
   "source": [
    "# Fix data types\n",
    "\n",
    "# DateCrawled, DateCreated, and LastSeen should be of datetime data type\n",
    "df['DateCrawled'] = pd.to_datetime(df['DateCrawled'], format = '%d/%m/%Y %H:%M')\n",
    "df['DateCreated'] = pd.to_datetime(df['DateCreated'], format = '%d/%m/%Y %H:%M')\n",
    "df['LastSeen'] = pd.to_datetime(df['LastSeen'], format = '%d/%m/%Y %H:%M')\n",
    "\n",
    "# # PostalCode should be of object datatype\n",
    "# df['PostalCode'] = df['PostalCode'].astype('object')\n",
    "\n",
    "print(df.info())"
   ]
  },
  {
   "cell_type": "code",
   "execution_count": 11,
   "metadata": {},
   "outputs": [
    {
     "data": {
      "image/png": "[encoded data removed]",
      "text/plain": [
       "<Figure size 1200x600 with 1 Axes>"
      ]
     },
     "metadata": {},
     "output_type": "display_data"
    }
   ],
   "source": [
    "# Check for outliers in Price column\n",
    "\n",
    "df['Price'].plot( kind='hist',\n",
    "                         title = 'Distribution of Price',\n",
    "                         ylabel = 'Frequency',\n",
    "                         xlabel = 'Price',\n",
    "                         bins = 200,\n",
    "                         figsize = [12,6]\n",
    "                               )\n",
    "plt.show()\n"
   ]
  },
  {
   "cell_type": "markdown",
   "metadata": {},
   "source": [
    "There are a lot of entries with the price as very close to 0, which does not make sense in car sales dataset, so those entries should be checked and dropped."
   ]
  },
  {
   "cell_type": "code",
   "execution_count": 12,
   "metadata": {},
   "outputs": [
    {
     "name": "stdout",
     "output_type": "stream",
     "text": [
      "8188         1\n",
      "2101         1\n",
      "1587         1\n",
      "19770        1\n",
      "3378         1\n",
      "         ...  \n",
      "1200      4589\n",
      "1000      4647\n",
      "1500      5391\n",
      "500       5667\n",
      "0        10770\n",
      "Name: Price, Length: 3731, dtype: int64\n",
      "\n",
      "Stats on the Price\n",
      "count    354106.000000\n",
      "mean       4416.443785\n",
      "std        4514.340636\n",
      "min           0.000000\n",
      "25%        1050.000000\n",
      "50%        2700.000000\n",
      "75%        6400.000000\n",
      "max       20000.000000\n",
      "Name: Price, dtype: float64\n",
      "\n",
      "5th percentile\n",
      "200.0\n",
      "\n",
      "10th percentile\n",
      "499.0\n"
     ]
    }
   ],
   "source": [
    "# Analyze car prices close to 0:\n",
    "\n",
    "print(df['Price'].value_counts().sort_values())\n",
    "\n",
    "print('\\nStats on the Price')\n",
    "print(df['Price'].describe())\n",
    "\n",
    "print('\\n5th percentile')\n",
    "print(df['Price'].quantile(0.05))\n",
    "print('\\n10th percentile')\n",
    "print(df['Price'].quantile(0.1))"
   ]
  },
  {
   "cell_type": "markdown",
   "metadata": {},
   "source": [
    "As it can be seen here, 10 percent of the car prices are below 600, and 5% are below 400, and there are a lot of 0 and 1 as the car price. To make the car prices more reasonable, all prices below 300 are dropped"
   ]
  },
  {
   "cell_type": "code",
   "execution_count": 13,
   "metadata": {},
   "outputs": [],
   "source": [
    "# Dropping all price entries under 300 as those don't make sense \n",
    "\n",
    "df = df[df['Price'] > 300]"
   ]
  },
  {
   "cell_type": "code",
   "execution_count": 15,
   "metadata": {},
   "outputs": [
    {
     "data": {
      "image/png": "[encoded data removed]",
      "text/plain": [
       "<Figure size 640x480 with 1 Axes>"
      ]
     },
     "metadata": {},
     "output_type": "display_data"
    }
   ],
   "source": [
    "# Check for outliers in Registration Year column\n",
    "\n",
    "df['RegistrationYear'].plot( kind='hist',\n",
    "                         title = 'Distribution of Registration Year',\n",
    "                         ylabel = 'Frequency',\n",
    "                         xlabel = 'Registration Year',\n",
    "                               )\n",
    "plt.show()"
   ]
  },
  {
   "cell_type": "markdown",
   "metadata": {},
   "source": [
    "No outliers noticed in the Registration Year column"
   ]
  },
  {
   "cell_type": "code",
   "execution_count": 16,
   "metadata": {},
   "outputs": [
    {
     "data": {
      "image/png": "[encoded data removed]",
      "text/plain": [
       "<Figure size 640x480 with 1 Axes>"
      ]
     },
     "metadata": {},
     "output_type": "display_data"
    }
   ],
   "source": [
    "# Check for outliers in Power column\n",
    "\n",
    "df['Power'].plot( kind='hist',\n",
    "                         title = 'Distribution of Power',\n",
    "                         ylabel = 'Frequency',\n",
    "                         xlabel = 'Power'\n",
    "                               )\n",
    "plt.show()"
   ]
  },
  {
   "cell_type": "markdown",
   "metadata": {},
   "source": [
    "There seems to be cars with 0 as the Power, so it needs to be analyzed"
   ]
  },
  {
   "cell_type": "code",
   "execution_count": 17,
   "metadata": {},
   "outputs": [
    {
     "name": "stdout",
     "output_type": "stream",
     "text": [
      "\n",
      "Stats on the Power\n",
      "count    328217.000000\n",
      "mean        113.408745\n",
      "std         187.301567\n",
      "min           0.000000\n",
      "25%          75.000000\n",
      "50%         105.000000\n",
      "75%         143.000000\n",
      "max       20000.000000\n",
      "Name: Power, dtype: float64\n",
      "\n",
      "5th percentile\n",
      "0.0\n",
      "\n",
      "10th percentile\n",
      "41.0\n"
     ]
    }
   ],
   "source": [
    "print('\\nStats on the Power')\n",
    "print(df['Power'].describe())\n",
    "\n",
    "print('\\n5th percentile')\n",
    "print(df['Power'].quantile(0.05))\n",
    "print('\\n10th percentile')\n",
    "print(df['Power'].quantile(0.1))"
   ]
  },
  {
   "cell_type": "markdown",
   "metadata": {},
   "source": [
    "Based on the above stats and the fact that the lowest possible power a car can have is 8, all entries with the Power under 8 are dropped"
   ]
  },
  {
   "cell_type": "code",
   "execution_count": 18,
   "metadata": {},
   "outputs": [],
   "source": [
    "# Dropping all power entries of 0 as those don't make sense \n",
    "\n",
    "df = df[df['Power'] >= 8]"
   ]
  },
  {
   "cell_type": "code",
   "execution_count": 19,
   "metadata": {},
   "outputs": [
    {
     "data": {
      "image/png": "[encoded data removed]",
      "text/plain": [
       "<Figure size 640x480 with 1 Axes>"
      ]
     },
     "metadata": {},
     "output_type": "display_data"
    }
   ],
   "source": [
    "# Check for outliers in Mileage column\n",
    "\n",
    "df['Mileage'].plot( kind='hist',\n",
    "                         title = 'Distribution of Mileage',\n",
    "                         ylabel = 'Frequency',\n",
    "                         xlabel = 'Mileage'\n",
    "                               )\n",
    "plt.show()"
   ]
  },
  {
   "cell_type": "markdown",
   "metadata": {},
   "source": [
    "No outliers are noticed in the Mileage column."
   ]
  },
  {
   "cell_type": "code",
   "execution_count": 20,
   "metadata": {},
   "outputs": [
    {
     "name": "stdout",
     "output_type": "stream",
     "text": [
      "VehicleType      9\n",
      "Gearbox          3\n",
      "Model          249\n",
      "FuelType         8\n",
      "Brand           40\n",
      "NotRepaired      3\n",
      "dtype: int64\n"
     ]
    }
   ],
   "source": [
    "# Check cardinality of different categorical features\n",
    "\n",
    "print(df.select_dtypes(include='object').nunique())\n"
   ]
  },
  {
   "cell_type": "code",
   "execution_count": 21,
   "metadata": {},
   "outputs": [
    {
     "data": {
      "image/png": "[encoded data removed]",
      "text/plain": [
       "<Figure size 1200x600 with 1 Axes>"
      ]
     },
     "metadata": {},
     "output_type": "display_data"
    }
   ],
   "source": [
    "# Check the distribution of the models values\n",
    "\n",
    "df['Model'].value_counts().plot( kind='bar',\n",
    "                         title = 'Distribution of Models',\n",
    "                         ylabel = 'Frequency',\n",
    "                         xlabel = 'Model',\n",
    "                         figsize = [12,6]\n",
    "                               )\n",
    "plt.xticks(fontsize=4)\n",
    "plt.show()\n"
   ]
  },
  {
   "cell_type": "markdown",
   "metadata": {},
   "source": [
    "The above figure shows that there are a lot of models that don't occur very often in the dataset. The top 50 models are plotted to see the distribution more closely."
   ]
  },
  {
   "cell_type": "code",
   "execution_count": 22,
   "metadata": {},
   "outputs": [
    {
     "data": {
      "image/png": "[encoded data removed]",
      "text/plain": [
       "<Figure size 640x480 with 1 Axes>"
      ]
     },
     "metadata": {},
     "output_type": "display_data"
    }
   ],
   "source": [
    "# Distribution of the top 50 models\n",
    "df['Model'].value_counts()[:50].plot( kind='bar',\n",
    "                     title = 'Distribution of Models',\n",
    "                     ylabel = 'Frequency',\n",
    "                     xlabel = 'Model',\n",
    "                    )\n",
    "plt.show()"
   ]
  },
  {
   "cell_type": "markdown",
   "metadata": {},
   "source": [
    "The 'other' and 'golf' models has a lot more values compared to other models. It seems to be an outlier as there are over 40000 entries for 'other' and 30,000 for 'golf' compared to the under 10,000 entried for most. Golf is an actual model and seems to be big in the used car sales dataset, other is just for all the unknown ones.\n",
    "\n",
    "Based on the above graph we can easily take the top 40 models here and lump the rest together to make the data simpler to use."
   ]
  },
  {
   "cell_type": "code",
   "execution_count": 23,
   "metadata": {},
   "outputs": [
    {
     "data": {
      "image/png": "[encoded data removed]",
      "text/plain": [
       "<Figure size 640x480 with 1 Axes>"
      ]
     },
     "metadata": {},
     "output_type": "display_data"
    }
   ],
   "source": [
    "# Check the distribution of the brands values\n",
    "\n",
    "df['Brand'].value_counts().plot( kind='bar',\n",
    "                 title = 'Distribution of Brands',\n",
    "                 ylabel = 'Frequency',\n",
    "                 xlabel = 'Brand',\n",
    "                )\n",
    "plt.show()"
   ]
  },
  {
   "cell_type": "markdown",
   "metadata": {},
   "source": [
    "Volkswagen brand is an outlier here as it has close to 75,000 entries compared to the rest of the brands where even the next most popular brand is open at 40,000 entries at almost half that. This makes sense as we have a lot of entries for the Golf model which is a Volkwagen brand. Volkswagen Golf seems to be a popular brand and model for used car sales, and will have a significant impact on the models.\n",
    "\n",
    "Based on the above graph we can easily take the top 30 brands here and lump the rest together to make the data simpler to use."
   ]
  },
  {
   "cell_type": "code",
   "execution_count": 24,
   "metadata": {},
   "outputs": [
    {
     "data": {
      "text/html": [
       "<div>\n",
       "<style scoped>\n",
       "    .dataframe tbody tr th:only-of-type {\n",
       "        vertical-align: middle;\n",
       "    }\n",
       "\n",
       "    .dataframe tbody tr th {\n",
       "        vertical-align: top;\n",
       "    }\n",
       "\n",
       "    .dataframe thead th {\n",
       "        text-align: right;\n",
       "    }\n",
       "</style>\n",
       "<table border=\"1\" class=\"dataframe\">\n",
       "  <thead>\n",
       "    <tr style=\"text-align: right;\">\n",
       "      <th></th>\n",
       "      <th>DateCrawled</th>\n",
       "      <th>Price</th>\n",
       "      <th>RegistrationYear</th>\n",
       "      <th>Power</th>\n",
       "      <th>Mileage</th>\n",
       "      <th>RegistrationMonth</th>\n",
       "      <th>DateCreated</th>\n",
       "      <th>NumberOfPictures</th>\n",
       "      <th>PostalCode</th>\n",
       "      <th>LastSeen</th>\n",
       "      <th>...</th>\n",
       "      <th>Brand_skoda</th>\n",
       "      <th>Brand_smart</th>\n",
       "      <th>Brand_sonstige_autos</th>\n",
       "      <th>Brand_subaru</th>\n",
       "      <th>Brand_suzuki</th>\n",
       "      <th>Brand_toyota</th>\n",
       "      <th>Brand_volkswagen</th>\n",
       "      <th>Brand_volvo</th>\n",
       "      <th>NotRepaired_unknown</th>\n",
       "      <th>NotRepaired_yes</th>\n",
       "    </tr>\n",
       "  </thead>\n",
       "  <tbody>\n",
       "    <tr>\n",
       "      <th>1</th>\n",
       "      <td>2016-03-24 10:58:00</td>\n",
       "      <td>18300</td>\n",
       "      <td>2011</td>\n",
       "      <td>190</td>\n",
       "      <td>125000</td>\n",
       "      <td>5</td>\n",
       "      <td>2016-03-24</td>\n",
       "      <td>0</td>\n",
       "      <td>66954</td>\n",
       "      <td>2016-04-07 01:46:00</td>\n",
       "      <td>...</td>\n",
       "      <td>0</td>\n",
       "      <td>0</td>\n",
       "      <td>0</td>\n",
       "      <td>0</td>\n",
       "      <td>0</td>\n",
       "      <td>0</td>\n",
       "      <td>0</td>\n",
       "      <td>0</td>\n",
       "      <td>0</td>\n",
       "      <td>1</td>\n",
       "    </tr>\n",
       "    <tr>\n",
       "      <th>2</th>\n",
       "      <td>2016-03-14 12:52:00</td>\n",
       "      <td>9800</td>\n",
       "      <td>2004</td>\n",
       "      <td>163</td>\n",
       "      <td>125000</td>\n",
       "      <td>8</td>\n",
       "      <td>2016-03-14</td>\n",
       "      <td>0</td>\n",
       "      <td>90480</td>\n",
       "      <td>2016-04-05 12:47:00</td>\n",
       "      <td>...</td>\n",
       "      <td>0</td>\n",
       "      <td>0</td>\n",
       "      <td>0</td>\n",
       "      <td>0</td>\n",
       "      <td>0</td>\n",
       "      <td>0</td>\n",
       "      <td>0</td>\n",
       "      <td>0</td>\n",
       "      <td>1</td>\n",
       "      <td>0</td>\n",
       "    </tr>\n",
       "    <tr>\n",
       "      <th>3</th>\n",
       "      <td>2016-03-17 16:54:00</td>\n",
       "      <td>1500</td>\n",
       "      <td>2001</td>\n",
       "      <td>75</td>\n",
       "      <td>150000</td>\n",
       "      <td>6</td>\n",
       "      <td>2016-03-17</td>\n",
       "      <td>0</td>\n",
       "      <td>91074</td>\n",
       "      <td>2016-03-17 17:40:00</td>\n",
       "      <td>...</td>\n",
       "      <td>0</td>\n",
       "      <td>0</td>\n",
       "      <td>0</td>\n",
       "      <td>0</td>\n",
       "      <td>0</td>\n",
       "      <td>0</td>\n",
       "      <td>1</td>\n",
       "      <td>0</td>\n",
       "      <td>0</td>\n",
       "      <td>0</td>\n",
       "    </tr>\n",
       "    <tr>\n",
       "      <th>4</th>\n",
       "      <td>2016-03-31 17:25:00</td>\n",
       "      <td>3600</td>\n",
       "      <td>2008</td>\n",
       "      <td>69</td>\n",
       "      <td>90000</td>\n",
       "      <td>7</td>\n",
       "      <td>2016-03-31</td>\n",
       "      <td>0</td>\n",
       "      <td>60437</td>\n",
       "      <td>2016-04-06 10:17:00</td>\n",
       "      <td>...</td>\n",
       "      <td>1</td>\n",
       "      <td>0</td>\n",
       "      <td>0</td>\n",
       "      <td>0</td>\n",
       "      <td>0</td>\n",
       "      <td>0</td>\n",
       "      <td>0</td>\n",
       "      <td>0</td>\n",
       "      <td>0</td>\n",
       "      <td>0</td>\n",
       "    </tr>\n",
       "    <tr>\n",
       "      <th>5</th>\n",
       "      <td>2016-04-04 17:36:00</td>\n",
       "      <td>650</td>\n",
       "      <td>1995</td>\n",
       "      <td>102</td>\n",
       "      <td>150000</td>\n",
       "      <td>10</td>\n",
       "      <td>2016-04-04</td>\n",
       "      <td>0</td>\n",
       "      <td>33775</td>\n",
       "      <td>2016-04-06 19:17:00</td>\n",
       "      <td>...</td>\n",
       "      <td>0</td>\n",
       "      <td>0</td>\n",
       "      <td>0</td>\n",
       "      <td>0</td>\n",
       "      <td>0</td>\n",
       "      <td>0</td>\n",
       "      <td>0</td>\n",
       "      <td>0</td>\n",
       "      <td>0</td>\n",
       "      <td>1</td>\n",
       "    </tr>\n",
       "    <tr>\n",
       "      <th>...</th>\n",
       "      <td>...</td>\n",
       "      <td>...</td>\n",
       "      <td>...</td>\n",
       "      <td>...</td>\n",
       "      <td>...</td>\n",
       "      <td>...</td>\n",
       "      <td>...</td>\n",
       "      <td>...</td>\n",
       "      <td>...</td>\n",
       "      <td>...</td>\n",
       "      <td>...</td>\n",
       "      <td>...</td>\n",
       "      <td>...</td>\n",
       "      <td>...</td>\n",
       "      <td>...</td>\n",
       "      <td>...</td>\n",
       "      <td>...</td>\n",
       "      <td>...</td>\n",
       "      <td>...</td>\n",
       "      <td>...</td>\n",
       "      <td>...</td>\n",
       "    </tr>\n",
       "    <tr>\n",
       "      <th>354361</th>\n",
       "      <td>2016-03-09 13:37:00</td>\n",
       "      <td>5250</td>\n",
       "      <td>2016</td>\n",
       "      <td>150</td>\n",
       "      <td>150000</td>\n",
       "      <td>12</td>\n",
       "      <td>2016-03-09</td>\n",
       "      <td>0</td>\n",
       "      <td>51371</td>\n",
       "      <td>2016-03-13 01:44:00</td>\n",
       "      <td>...</td>\n",
       "      <td>0</td>\n",
       "      <td>0</td>\n",
       "      <td>0</td>\n",
       "      <td>0</td>\n",
       "      <td>0</td>\n",
       "      <td>0</td>\n",
       "      <td>0</td>\n",
       "      <td>0</td>\n",
       "      <td>0</td>\n",
       "      <td>0</td>\n",
       "    </tr>\n",
       "    <tr>\n",
       "      <th>354362</th>\n",
       "      <td>2016-03-19 19:53:00</td>\n",
       "      <td>3200</td>\n",
       "      <td>2004</td>\n",
       "      <td>225</td>\n",
       "      <td>150000</td>\n",
       "      <td>5</td>\n",
       "      <td>2016-03-19</td>\n",
       "      <td>0</td>\n",
       "      <td>96465</td>\n",
       "      <td>2016-03-19 20:44:00</td>\n",
       "      <td>...</td>\n",
       "      <td>0</td>\n",
       "      <td>0</td>\n",
       "      <td>0</td>\n",
       "      <td>0</td>\n",
       "      <td>0</td>\n",
       "      <td>0</td>\n",
       "      <td>0</td>\n",
       "      <td>0</td>\n",
       "      <td>0</td>\n",
       "      <td>1</td>\n",
       "    </tr>\n",
       "    <tr>\n",
       "      <th>354366</th>\n",
       "      <td>2016-03-05 19:56:00</td>\n",
       "      <td>1199</td>\n",
       "      <td>2000</td>\n",
       "      <td>101</td>\n",
       "      <td>125000</td>\n",
       "      <td>3</td>\n",
       "      <td>2016-03-05</td>\n",
       "      <td>0</td>\n",
       "      <td>26135</td>\n",
       "      <td>2016-03-11 18:17:00</td>\n",
       "      <td>...</td>\n",
       "      <td>0</td>\n",
       "      <td>1</td>\n",
       "      <td>0</td>\n",
       "      <td>0</td>\n",
       "      <td>0</td>\n",
       "      <td>0</td>\n",
       "      <td>0</td>\n",
       "      <td>0</td>\n",
       "      <td>0</td>\n",
       "      <td>0</td>\n",
       "    </tr>\n",
       "    <tr>\n",
       "      <th>354367</th>\n",
       "      <td>2016-03-19 18:57:00</td>\n",
       "      <td>9200</td>\n",
       "      <td>1996</td>\n",
       "      <td>102</td>\n",
       "      <td>150000</td>\n",
       "      <td>3</td>\n",
       "      <td>2016-03-19</td>\n",
       "      <td>0</td>\n",
       "      <td>87439</td>\n",
       "      <td>2016-04-07 07:15:00</td>\n",
       "      <td>...</td>\n",
       "      <td>0</td>\n",
       "      <td>0</td>\n",
       "      <td>0</td>\n",
       "      <td>0</td>\n",
       "      <td>0</td>\n",
       "      <td>0</td>\n",
       "      <td>1</td>\n",
       "      <td>0</td>\n",
       "      <td>0</td>\n",
       "      <td>0</td>\n",
       "    </tr>\n",
       "    <tr>\n",
       "      <th>354368</th>\n",
       "      <td>2016-03-20 19:41:00</td>\n",
       "      <td>3400</td>\n",
       "      <td>2002</td>\n",
       "      <td>100</td>\n",
       "      <td>150000</td>\n",
       "      <td>6</td>\n",
       "      <td>2016-03-20</td>\n",
       "      <td>0</td>\n",
       "      <td>40764</td>\n",
       "      <td>2016-03-24 12:45:00</td>\n",
       "      <td>...</td>\n",
       "      <td>0</td>\n",
       "      <td>0</td>\n",
       "      <td>0</td>\n",
       "      <td>0</td>\n",
       "      <td>0</td>\n",
       "      <td>0</td>\n",
       "      <td>1</td>\n",
       "      <td>0</td>\n",
       "      <td>1</td>\n",
       "      <td>0</td>\n",
       "    </tr>\n",
       "  </tbody>\n",
       "</table>\n",
       "<p>296835 rows × 98 columns</p>\n",
       "</div>"
      ],
      "text/plain": [
       "               DateCrawled  Price  RegistrationYear  Power  Mileage  \\\n",
       "1      2016-03-24 10:58:00  18300              2011    190   125000   \n",
       "2      2016-03-14 12:52:00   9800              2004    163   125000   \n",
       "3      2016-03-17 16:54:00   1500              2001     75   150000   \n",
       "4      2016-03-31 17:25:00   3600              2008     69    90000   \n",
       "5      2016-04-04 17:36:00    650              1995    102   150000   \n",
       "...                    ...    ...               ...    ...      ...   \n",
       "354361 2016-03-09 13:37:00   5250              2016    150   150000   \n",
       "354362 2016-03-19 19:53:00   3200              2004    225   150000   \n",
       "354366 2016-03-05 19:56:00   1199              2000    101   125000   \n",
       "354367 2016-03-19 18:57:00   9200              1996    102   150000   \n",
       "354368 2016-03-20 19:41:00   3400              2002    100   150000   \n",
       "\n",
       "        RegistrationMonth DateCreated  NumberOfPictures  PostalCode  \\\n",
       "1                       5  2016-03-24                 0       66954   \n",
       "2                       8  2016-03-14                 0       90480   \n",
       "3                       6  2016-03-17                 0       91074   \n",
       "4                       7  2016-03-31                 0       60437   \n",
       "5                      10  2016-04-04                 0       33775   \n",
       "...                   ...         ...               ...         ...   \n",
       "354361                 12  2016-03-09                 0       51371   \n",
       "354362                  5  2016-03-19                 0       96465   \n",
       "354366                  3  2016-03-05                 0       26135   \n",
       "354367                  3  2016-03-19                 0       87439   \n",
       "354368                  6  2016-03-20                 0       40764   \n",
       "\n",
       "                  LastSeen  ...  Brand_skoda  Brand_smart  \\\n",
       "1      2016-04-07 01:46:00  ...            0            0   \n",
       "2      2016-04-05 12:47:00  ...            0            0   \n",
       "3      2016-03-17 17:40:00  ...            0            0   \n",
       "4      2016-04-06 10:17:00  ...            1            0   \n",
       "5      2016-04-06 19:17:00  ...            0            0   \n",
       "...                    ...  ...          ...          ...   \n",
       "354361 2016-03-13 01:44:00  ...            0            0   \n",
       "354362 2016-03-19 20:44:00  ...            0            0   \n",
       "354366 2016-03-11 18:17:00  ...            0            1   \n",
       "354367 2016-04-07 07:15:00  ...            0            0   \n",
       "354368 2016-03-24 12:45:00  ...            0            0   \n",
       "\n",
       "        Brand_sonstige_autos  Brand_subaru  Brand_suzuki  Brand_toyota  \\\n",
       "1                          0             0             0             0   \n",
       "2                          0             0             0             0   \n",
       "3                          0             0             0             0   \n",
       "4                          0             0             0             0   \n",
       "5                          0             0             0             0   \n",
       "...                      ...           ...           ...           ...   \n",
       "354361                     0             0             0             0   \n",
       "354362                     0             0             0             0   \n",
       "354366                     0             0             0             0   \n",
       "354367                     0             0             0             0   \n",
       "354368                     0             0             0             0   \n",
       "\n",
       "        Brand_volkswagen  Brand_volvo  NotRepaired_unknown  NotRepaired_yes  \n",
       "1                      0            0                    0                1  \n",
       "2                      0            0                    1                0  \n",
       "3                      1            0                    0                0  \n",
       "4                      0            0                    0                0  \n",
       "5                      0            0                    0                1  \n",
       "...                  ...          ...                  ...              ...  \n",
       "354361                 0            0                    0                0  \n",
       "354362                 0            0                    0                1  \n",
       "354366                 0            0                    0                0  \n",
       "354367                 1            0                    0                0  \n",
       "354368                 1            0                    1                0  \n",
       "\n",
       "[296835 rows x 98 columns]"
      ]
     },
     "execution_count": 24,
     "metadata": {},
     "output_type": "execute_result"
    }
   ],
   "source": [
    "# One-Hot Encoding \n",
    "\n",
    "# Only keep the top 40 models to simplify data to use for regression models\n",
    "threshold = 40  \n",
    "top_categories = df['Model'].value_counts().nlargest(threshold).index\n",
    "df['Model'] = df['Model'].apply(\n",
    "    lambda x: x if x in top_categories else 'other')\n",
    "\n",
    "# Only keep the top 30 brands to simplify data to use for regression models\n",
    "threshold = 30  \n",
    "top_categories = df['Brand'].value_counts().nlargest(threshold).index\n",
    "df['Brand'] = df['Brand'].apply(\n",
    "    lambda x: x if x in top_categories else 'other')\n",
    "\n",
    "\n",
    "df_ohe = pd.get_dummies(df, drop_first=True)\n",
    "df_ohe.sample(10)"
   ]
  },
  {
   "cell_type": "code",
   "execution_count": 25,
   "metadata": {},
   "outputs": [],
   "source": [
    "# Split data into training and test set\n",
    "\n",
    "df_ohe_features = df_ohe.drop(['Price', 'DateCrawled', 'DateCreated', 'LastSeen'], axis=1)\n",
    "\n",
    "features_train, features_test, target_train, target_test = train_test_split(\n",
    "    df_ohe_features, df_ohe['Price'], test_size=0.25, random_state=12345)\n",
    "\n",
    "# Scale the features\n",
    "\n",
    "\n",
    "scaler = StandardScaler()\n",
    "scaler.fit(features_train)\n",
    "features_train = scaler.transform(features_train)\n",
    "features_test = scaler.transform(features_test)\n"
   ]
  },
  {
   "cell_type": "markdown",
   "metadata": {},
   "source": [
    "One-Hot Encoding was used for the categorical variables, but certain features like Model and Brand were a high cardinality feature with there being 250 unique models and 40 unique brands. The extent of these two features was limited by using the top 40 Models and top 30 brands only, while lumping the remaining in an 'other' category. This was done to save on processing power as without it there were too many features and the computational bandwith of the system was not enough to sustain that."
   ]
  },
  {
   "cell_type": "markdown",
   "metadata": {},
   "source": [
    "## Model training"
   ]
  },
  {
   "cell_type": "code",
   "execution_count": 26,
   "metadata": {},
   "outputs": [
    {
     "name": "stdout",
     "output_type": "stream",
     "text": [
      "RMSE for Linear Regression: 3259.1529936166658\n",
      "Linear Regression Prediction Time: 0.01 seconds\n"
     ]
    }
   ],
   "source": [
    "# Linear Regression - sanity check\n",
    "\n",
    "model_lr = LinearRegression()\n",
    "model_lr.fit(features_train, target_train)\n",
    "\n",
    "start_time_lr = time.time()\n",
    "prediction_lr = model_lr.predict(features_test)\n",
    "lr_prediction_time = time.time() - start_time_lr\n",
    "\n",
    "rmse_lr = mean_squared_error(target_test, prediction_lr, squared=False)\n",
    "print('RMSE for Linear Regression:', rmse_lr)\n",
    "print(f'Linear Regression Prediction Time: {lr_prediction_time:.2f} seconds')\n"
   ]
  },
  {
   "cell_type": "code",
   "execution_count": 27,
   "metadata": {},
   "outputs": [
    {
     "name": "stdout",
     "output_type": "stream",
     "text": [
      "Fitting 3 folds for each of 5 candidates, totalling 15 fits\n",
      "Best Parameters: {'n_estimators': 100, 'min_samples_split': 2, 'max_depth': None}\n",
      "Randomized Search Hyperparameter tuning time - Random Forest: 977.2143354415894\n"
     ]
    }
   ],
   "source": [
    "# Random Forest Regressor - Finetune Hyperparameters\n",
    "\n",
    "param_grid_rf = {\n",
    "    'n_estimators': [50, 100],\n",
    "    'max_depth': [None, 10],\n",
    "    'min_samples_split': [2, 5],\n",
    "}\n",
    "\n",
    "rf_model = RandomForestRegressor()\n",
    "\n",
    "random_search_rf = RandomizedSearchCV(estimator=rf_model, param_distributions=param_grid_rf, \n",
    "                                   scoring='neg_mean_squared_error', n_iter=5, cv=3, verbose=1, random_state=42, n_jobs=-1)\n",
    "\n",
    "start_time = time.time()\n",
    "random_search_rf.fit(features_train, target_train)\n",
    "search_time = time.time() - start_time\n",
    "\n",
    "# Get the best parameters and model\n",
    "best_params_rf = random_search_rf.best_params_\n",
    "best_model_rf = random_search_rf.best_estimator_\n",
    "\n",
    "print(\"Best Parameters:\", best_params_rf)\n",
    "# print(\"Best MSE Score:\", best_score_rf)\n",
    "print('Randomized Search Hyperparameter tuning time - Random Forest:', search_time)\n",
    "\n"
   ]
  },
  {
   "cell_type": "code",
   "execution_count": 28,
   "metadata": {},
   "outputs": [
    {
     "name": "stdout",
     "output_type": "stream",
     "text": [
      "RMSE for Random Forest Regressor: 1566.4792749007822\n",
      "Random Forest Regressor Prediction Time: 2.91 seconds\n"
     ]
    }
   ],
   "source": [
    "# Random Forest Regressor - Using the best model to predict\n",
    "\n",
    "start_time_rf = time.time()\n",
    "prediction_rf = best_model_rf.predict(features_test)\n",
    "rf_prediction_time = time.time() - start_time_rf\n",
    "\n",
    "rmse_rf = mean_squared_error(target_test, prediction_rf, squared=False)\n",
    "print('RMSE for Random Forest Regressor:', rmse_rf)\n",
    "print(f'Random Forest Regressor Prediction Time: {rf_prediction_time:.2f} seconds')\n"
   ]
  },
  {
   "cell_type": "code",
   "execution_count": 29,
   "metadata": {},
   "outputs": [
    {
     "name": "stdout",
     "output_type": "stream",
     "text": [
      "Fitting 3 folds for each of 10 candidates, totalling 30 fits\n",
      "Best parameters found:  {'subsample': 0.7, 'num_leaves': 50, 'n_estimators': 300, 'max_depth': 10, 'learning_rate': 0.1, 'colsample_bytree': 0.8}\n",
      "Randomized Search Hyperparameter tuning time - Light GBM: 181.56 seconds\n"
     ]
    }
   ],
   "source": [
    "# Light GBM Regressor (LGBMRegressor) - Finetune Hyperparameters\n",
    "\n",
    "# Define a smaller and more focused parameter grid\n",
    "param_distributions = {\n",
    "    'num_leaves': np.arange(20, 60, 10),\n",
    "    'max_depth': np.arange(5, 15, 5),\n",
    "    'learning_rate': [0.01, 0.05, 0.1],\n",
    "    'n_estimators': [100, 200, 300],\n",
    "    'subsample': [0.7, 0.8, 0.9],\n",
    "    'colsample_bytree': [0.7, 0.8, 0.9],\n",
    "}\n",
    "\n",
    "# Initialize the model\n",
    "lgb_model = lgb.LGBMRegressor()\n",
    "\n",
    "# Perform random search with fewer iterations\n",
    "random_search = RandomizedSearchCV(estimator=lgb_model, param_distributions=param_distributions, \n",
    "                                   scoring='neg_mean_squared_error', n_iter=10, cv=3, verbose=1, random_state=42, n_jobs=-1)\n",
    "\n",
    "start_time = time.time()\n",
    "random_search.fit(features_train, target_train)\n",
    "search_time = time.time() - start_time\n",
    "\n",
    "# Get the best parameters and model\n",
    "best_params = random_search.best_params_\n",
    "best_model = random_search.best_estimator_\n",
    "\n",
    "# Print the best parameters and search time\n",
    "print(\"Best parameters found: \", best_params)\n",
    "print(f\"Randomized Search Hyperparameter tuning time - Light GBM: {search_time:.2f} seconds\")\n",
    "\n"
   ]
  },
  {
   "cell_type": "code",
   "execution_count": 30,
   "metadata": {},
   "outputs": [
    {
     "name": "stdout",
     "output_type": "stream",
     "text": [
      "RMSE for LightGBM: 1606.5537394544754\n",
      "LightGBM Prediction Time: 1.40 seconds\n"
     ]
    }
   ],
   "source": [
    "# Light GBM Regressor (LGBMRegressor) - Use the best model to predict\n",
    "\n",
    "start_time_lgb = time.time()\n",
    "prediction_lgb = best_model.predict(features_test)\n",
    "lgb_prediction_time = time.time() - start_time_lgb\n",
    "\n",
    "# Calculate RMSE\n",
    "rmse_lgb = mean_squared_error(target_test, prediction_lgb, squared=False)\n",
    "\n",
    "print('RMSE for LightGBM:', rmse_lgb)\n",
    "print(f'LightGBM Prediction Time: {lgb_prediction_time:.2f} seconds')"
   ]
  },
  {
   "cell_type": "code",
   "execution_count": 31,
   "metadata": {},
   "outputs": [
    {
     "name": "stdout",
     "output_type": "stream",
     "text": [
      "0:\tlearn: 4297.3102201\ttotal: 75.6ms\tremaining: 7.49s\n",
      "10:\tlearn: 2735.2076341\ttotal: 328ms\tremaining: 2.65s\n",
      "20:\tlearn: 2282.6983114\ttotal: 575ms\tremaining: 2.16s\n",
      "30:\tlearn: 2097.7853988\ttotal: 808ms\tremaining: 1.8s\n",
      "40:\tlearn: 2008.1646927\ttotal: 1.04s\tremaining: 1.49s\n",
      "50:\tlearn: 1949.9958770\ttotal: 1.27s\tremaining: 1.22s\n",
      "60:\tlearn: 1907.1071141\ttotal: 1.5s\tremaining: 959ms\n",
      "70:\tlearn: 1875.6518533\ttotal: 1.73s\tremaining: 708ms\n",
      "80:\tlearn: 1854.1904194\ttotal: 1.97s\tremaining: 461ms\n",
      "90:\tlearn: 1835.3146124\ttotal: 2.19s\tremaining: 216ms\n",
      "99:\tlearn: 1820.6656705\ttotal: 2.39s\tremaining: 0us\n",
      "RMSE for Cat Boost Regressor: 1821.2396396530978\n",
      "Cat Boost Regressor Prediction Time: 1.40 seconds\n"
     ]
    }
   ],
   "source": [
    "# Cat Boost Regressor\n",
    " \n",
    "model_cb = CatBoostRegressor(iterations=100, learning_rate=0.1, depth=6, random_seed=12345)   \n",
    "model_cb.fit(features_train, target_train, verbose=10)\n",
    "\n",
    "start_time_cb = time.time()\n",
    "prediction_cb = model_cb.predict(features_test)\n",
    "cb_prediction_time = time.time() - start_time_cb\n",
    "\n",
    "rmse_cb = mean_squared_error(target_test, prediction_cb, squared=False)\n",
    "print('RMSE for Cat Boost Regressor:', rmse_cb)\n",
    "print(f'Cat Boost Regressor Prediction Time: {lgb_prediction_time:.2f} seconds')\n",
    "\n",
    "# model = CatBoostClassifier(loss_function=\"Logloss\", iterations=150, random_seed=12345)\n",
    "# model.fit(features_train, target_train, cat_features=cat_features, verbose=10)\n"
   ]
  },
  {
   "cell_type": "code",
   "execution_count": 32,
   "metadata": {},
   "outputs": [
    {
     "name": "stdout",
     "output_type": "stream",
     "text": [
      "RMSE for XGBoost: 3459.7234535772395\n",
      "XGBoost Classifier Prediction Time: 0.11 seconds\n"
     ]
    }
   ],
   "source": [
    "# XGBoost\n",
    "\n",
    "model_xgb = xgb.XGBRegressor(n_estimators=10, learning_rate=0.1, max_depth=3)\n",
    "model_xgb.fit(features_train, target_train)\n",
    "\n",
    "\n",
    "start_time_xgb = time.time()\n",
    "prediction_xgb = model_xgb.predict(features_test)\n",
    "xgb_prediction_time = time.time() - start_time_xgb\n",
    "\n",
    "rmse_xgb = mean_squared_error(target_test, prediction_xgb, squared=False)\n",
    "print('RMSE for XGBoost:', rmse_xgb)\n",
    "print(f'XGBoost Classifier Prediction Time: {xgb_prediction_time:.2f} seconds')\n"
   ]
  },
  {
   "cell_type": "markdown",
   "metadata": {},
   "source": [
    "## Model analysis - Conclusion"
   ]
  },
  {
   "cell_type": "markdown",
   "metadata": {},
   "source": [
    "We first ran a Linear Regression model as a sanity check to make sure all other models do better than that in terms of its accuracy (calculated through RMSE). Linear Regression model gave a RMSE of 3259 with a prediction time of only 0.01 seconds.\n",
    "\n",
    "Compared to that, Random Forest Regression after some hypertuning of parameters gave a RMSE of 1566 with a prediction time of 2.91 seconds, but it took roughly 16 minutes (977 seconds) to find the best parameters using Randomized Search.\n",
    "\n",
    "The different gradient boosting models used were LightGBM, Catboost, and XGBoost. After some hypertuning of parameters, LightGBM Regressor gave a RMSE of 1606 with a prediction time of 1.40 seconds, but it took 3 minutes (181 seconds) time to hypertune the parameters. Catboost Regressor gave a RMSE of 1821 with a prediction time of 1.40 seconds, whereas XGBoost gave a RMSE of 3459 with a prediction time of 0.11 seconds.\n",
    "\n",
    "As we can see- Random Forest Regressor, Light GBM Regressor and Catboost Regressor gave the lowest RMSE. Light GBM gave the lowest RMSE at 1606 but that was with hypertuning which took a few minues, whereas Catboost gave a slightly higher RMSE at 1821 but no hypertuning was done so it was done within 1.40 seconds. Even though Random Forest Regressor gave the lowest RMSE at 1566, it took 16 minutes to find the best parameters for the model so that isn't the best choice."
   ]
  }
 ],
 "metadata": {
  "ExecuteTimeLog": [
   {
    "duration": 817,
    "start_time": "2024-12-18T21:21:50.364Z"
   },
   {
    "duration": 449,
    "start_time": "2024-12-18T21:21:51.183Z"
   },
   {
    "duration": 406,
    "start_time": "2024-12-18T21:22:06.736Z"
   },
   {
    "duration": 10,
    "start_time": "2024-12-18T21:22:51.995Z"
   },
   {
    "duration": 89,
    "start_time": "2024-12-18T21:23:07.030Z"
   },
   {
    "duration": 83,
    "start_time": "2024-12-18T21:23:43.704Z"
   },
   {
    "duration": 212,
    "start_time": "2024-12-18T21:31:12.293Z"
   },
   {
    "duration": 93,
    "start_time": "2024-12-18T21:38:47.049Z"
   },
   {
    "duration": 86,
    "start_time": "2024-12-18T21:39:34.736Z"
   },
   {
    "duration": 459,
    "start_time": "2024-12-18T21:55:51.551Z"
   },
   {
    "duration": 23,
    "start_time": "2024-12-18T22:00:27.333Z"
   },
   {
    "duration": 30,
    "start_time": "2024-12-18T22:02:25.020Z"
   },
   {
    "duration": 132,
    "start_time": "2024-12-18T22:03:50.647Z"
   },
   {
    "duration": 219,
    "start_time": "2024-12-18T22:04:10.244Z"
   },
   {
    "duration": 85,
    "start_time": "2024-12-18T22:04:34.933Z"
   },
   {
    "duration": 86,
    "start_time": "2024-12-18T22:04:40.074Z"
   },
   {
    "duration": 135,
    "start_time": "2024-12-18T22:04:40.689Z"
   },
   {
    "duration": 90,
    "start_time": "2024-12-18T22:04:41.534Z"
   },
   {
    "duration": 2,
    "start_time": "2024-12-18T22:05:00.374Z"
   },
   {
    "duration": 426,
    "start_time": "2024-12-18T22:05:00.831Z"
   },
   {
    "duration": 94,
    "start_time": "2024-12-18T22:05:01.259Z"
   },
   {
    "duration": 88,
    "start_time": "2024-12-18T22:05:01.484Z"
   },
   {
    "duration": 90,
    "start_time": "2024-12-18T22:05:01.800Z"
   },
   {
    "duration": 132,
    "start_time": "2024-12-18T22:05:02.605Z"
   },
   {
    "duration": 88,
    "start_time": "2024-12-18T22:05:03.820Z"
   },
   {
    "duration": 102,
    "start_time": "2024-12-18T22:05:40.460Z"
   },
   {
    "duration": 380,
    "start_time": "2024-12-18T22:20:00.602Z"
   },
   {
    "duration": 88,
    "start_time": "2024-12-18T22:20:00.983Z"
   },
   {
    "duration": 91,
    "start_time": "2024-12-18T22:20:01.228Z"
   },
   {
    "duration": 128,
    "start_time": "2024-12-18T22:20:03.879Z"
   },
   {
    "duration": 86,
    "start_time": "2024-12-18T22:20:05.188Z"
   },
   {
    "duration": 135,
    "start_time": "2024-12-18T22:20:10.144Z"
   },
   {
    "duration": 87,
    "start_time": "2024-12-18T22:20:15.536Z"
   },
   {
    "duration": 95,
    "start_time": "2024-12-18T22:20:20.210Z"
   },
   {
    "duration": 131,
    "start_time": "2024-12-18T22:20:22.179Z"
   },
   {
    "duration": 131,
    "start_time": "2024-12-18T22:20:24.227Z"
   },
   {
    "duration": 131,
    "start_time": "2024-12-18T22:20:27.054Z"
   },
   {
    "duration": 98,
    "start_time": "2024-12-18T22:20:28.815Z"
   },
   {
    "duration": 761,
    "start_time": "2024-12-19T09:38:08.660Z"
   },
   {
    "duration": 474,
    "start_time": "2024-12-19T09:38:09.423Z"
   },
   {
    "duration": 98,
    "start_time": "2024-12-19T09:38:09.899Z"
   },
   {
    "duration": 99,
    "start_time": "2024-12-19T09:38:10.001Z"
   },
   {
    "duration": 144,
    "start_time": "2024-12-19T09:38:10.882Z"
   },
   {
    "duration": 89,
    "start_time": "2024-12-19T09:38:11.470Z"
   },
   {
    "duration": 236,
    "start_time": "2024-12-19T09:38:11.889Z"
   },
   {
    "duration": 503,
    "start_time": "2024-12-19T09:38:12.638Z"
   },
   {
    "duration": 93,
    "start_time": "2024-12-19T09:38:13.254Z"
   },
   {
    "duration": 2,
    "start_time": "2024-12-19T09:38:13.768Z"
   },
   {
    "duration": 151,
    "start_time": "2024-12-19T09:38:44.376Z"
   },
   {
    "duration": 141,
    "start_time": "2024-12-19T09:38:57.505Z"
   },
   {
    "duration": 95,
    "start_time": "2024-12-19T09:39:01.406Z"
   },
   {
    "duration": 85,
    "start_time": "2024-12-19T09:39:16.641Z"
   },
   {
    "duration": 86,
    "start_time": "2024-12-19T09:39:16.855Z"
   },
   {
    "duration": 149,
    "start_time": "2024-12-19T09:39:18.296Z"
   },
   {
    "duration": 86,
    "start_time": "2024-12-19T09:39:19.553Z"
   },
   {
    "duration": 256,
    "start_time": "2024-12-19T09:39:22.981Z"
   },
   {
    "duration": 234,
    "start_time": "2024-12-19T09:39:34.025Z"
   },
   {
    "duration": 511,
    "start_time": "2024-12-19T09:39:34.302Z"
   },
   {
    "duration": 134,
    "start_time": "2024-12-19T09:39:39.480Z"
   },
   {
    "duration": 88,
    "start_time": "2024-12-19T09:39:40.125Z"
   },
   {
    "duration": 218,
    "start_time": "2024-12-19T09:39:41.340Z"
   },
   {
    "duration": 134,
    "start_time": "2024-12-19T09:57:03.441Z"
   },
   {
    "duration": 87,
    "start_time": "2024-12-19T09:57:03.985Z"
   },
   {
    "duration": 216,
    "start_time": "2024-12-19T09:57:05.651Z"
   },
   {
    "duration": 494,
    "start_time": "2024-12-19T09:57:06.481Z"
   },
   {
    "duration": 91,
    "start_time": "2024-12-19T09:57:07.325Z"
   },
   {
    "duration": 141,
    "start_time": "2024-12-19T10:01:18.352Z"
   },
   {
    "duration": 421,
    "start_time": "2024-12-19T10:01:18.561Z"
   },
   {
    "duration": 86,
    "start_time": "2024-12-19T10:01:18.984Z"
   },
   {
    "duration": 94,
    "start_time": "2024-12-19T10:01:19.072Z"
   },
   {
    "duration": 129,
    "start_time": "2024-12-19T10:01:19.304Z"
   },
   {
    "duration": 85,
    "start_time": "2024-12-19T10:01:19.480Z"
   },
   {
    "duration": 192,
    "start_time": "2024-12-19T10:01:19.709Z"
   },
   {
    "duration": 405,
    "start_time": "2024-12-19T10:01:20.291Z"
   },
   {
    "duration": 88,
    "start_time": "2024-12-19T10:01:20.739Z"
   },
   {
    "duration": 2,
    "start_time": "2024-12-19T10:01:21.094Z"
   },
   {
    "duration": 983,
    "start_time": "2024-12-19T10:12:18.599Z"
   },
   {
    "duration": 489,
    "start_time": "2024-12-19T10:12:19.584Z"
   },
   {
    "duration": 94,
    "start_time": "2024-12-19T10:12:20.075Z"
   },
   {
    "duration": 92,
    "start_time": "2024-12-19T10:12:20.171Z"
   },
   {
    "duration": 133,
    "start_time": "2024-12-19T10:12:21.964Z"
   },
   {
    "duration": 84,
    "start_time": "2024-12-19T10:12:22.826Z"
   },
   {
    "duration": 134,
    "start_time": "2024-12-19T10:13:42.280Z"
   },
   {
    "duration": 133,
    "start_time": "2024-12-19T10:13:45.302Z"
   },
   {
    "duration": 84,
    "start_time": "2024-12-19T10:13:47.111Z"
   },
   {
    "duration": 120,
    "start_time": "2024-12-19T10:14:40.752Z"
   },
   {
    "duration": 86,
    "start_time": "2024-12-19T10:14:41.506Z"
   },
   {
    "duration": 222,
    "start_time": "2024-12-19T10:14:41.974Z"
   },
   {
    "duration": 117,
    "start_time": "2024-12-19T10:14:48.131Z"
   },
   {
    "duration": 84,
    "start_time": "2024-12-19T10:14:48.737Z"
   },
   {
    "duration": 118,
    "start_time": "2024-12-19T10:15:00.312Z"
   },
   {
    "duration": 88,
    "start_time": "2024-12-19T10:15:00.859Z"
   },
   {
    "duration": 225,
    "start_time": "2024-12-19T10:15:01.679Z"
   },
   {
    "duration": 112,
    "start_time": "2024-12-19T10:15:47.506Z"
   },
   {
    "duration": 85,
    "start_time": "2024-12-19T10:15:48.015Z"
   },
   {
    "duration": 211,
    "start_time": "2024-12-19T10:15:48.808Z"
   },
   {
    "duration": 438,
    "start_time": "2024-12-19T10:15:49.379Z"
   },
   {
    "duration": 97,
    "start_time": "2024-12-19T10:15:49.819Z"
   },
   {
    "duration": 2,
    "start_time": "2024-12-19T10:15:50.722Z"
   },
   {
    "duration": 966,
    "start_time": "2024-12-19T19:06:55.511Z"
   },
   {
    "duration": 475,
    "start_time": "2024-12-19T19:06:56.479Z"
   },
   {
    "duration": 90,
    "start_time": "2024-12-19T19:06:56.956Z"
   },
   {
    "duration": 97,
    "start_time": "2024-12-19T19:06:57.048Z"
   },
   {
    "duration": 113,
    "start_time": "2024-12-19T19:06:58.316Z"
   },
   {
    "duration": 85,
    "start_time": "2024-12-19T19:06:59.063Z"
   },
   {
    "duration": 217,
    "start_time": "2024-12-19T19:06:59.849Z"
   },
   {
    "duration": 461,
    "start_time": "2024-12-19T19:07:00.504Z"
   },
   {
    "duration": 93,
    "start_time": "2024-12-19T19:07:01.528Z"
   },
   {
    "duration": 3,
    "start_time": "2024-12-19T19:07:06.605Z"
   },
   {
    "duration": 2,
    "start_time": "2024-12-19T19:07:16.234Z"
   },
   {
    "duration": 106,
    "start_time": "2024-12-19T19:09:49.697Z"
   },
   {
    "duration": 4,
    "start_time": "2024-12-19T19:11:11.593Z"
   },
   {
    "duration": 242,
    "start_time": "2024-12-19T19:11:17.022Z"
   },
   {
    "duration": 2,
    "start_time": "2024-12-19T19:13:45.518Z"
   },
   {
    "duration": 908,
    "start_time": "2024-12-19T19:57:41.468Z"
   },
   {
    "duration": 507,
    "start_time": "2024-12-19T19:57:42.377Z"
   },
   {
    "duration": 96,
    "start_time": "2024-12-19T19:57:42.886Z"
   },
   {
    "duration": 98,
    "start_time": "2024-12-19T19:57:42.984Z"
   },
   {
    "duration": 121,
    "start_time": "2024-12-19T19:57:43.084Z"
   },
   {
    "duration": 85,
    "start_time": "2024-12-19T19:57:43.206Z"
   },
   {
    "duration": 243,
    "start_time": "2024-12-19T19:57:43.293Z"
   },
   {
    "duration": 477,
    "start_time": "2024-12-19T19:57:43.538Z"
   },
   {
    "duration": 98,
    "start_time": "2024-12-19T19:57:44.018Z"
   },
   {
    "duration": 2,
    "start_time": "2024-12-19T19:57:44.118Z"
   },
   {
    "duration": 2,
    "start_time": "2024-12-19T19:57:44.257Z"
   },
   {
    "duration": 92,
    "start_time": "2024-12-19T19:57:45.608Z"
   },
   {
    "duration": 206,
    "start_time": "2024-12-19T19:57:49.353Z"
   },
   {
    "duration": 2,
    "start_time": "2024-12-19T19:58:00.789Z"
   },
   {
    "duration": 724,
    "start_time": "2024-12-19T20:04:26.309Z"
   },
   {
    "duration": 3,
    "start_time": "2024-12-19T20:04:37.776Z"
   },
   {
    "duration": 956,
    "start_time": "2024-12-19T21:57:48.405Z"
   },
   {
    "duration": 473,
    "start_time": "2024-12-19T21:57:49.363Z"
   },
   {
    "duration": 92,
    "start_time": "2024-12-19T21:57:49.838Z"
   },
   {
    "duration": 96,
    "start_time": "2024-12-19T21:57:49.933Z"
   },
   {
    "duration": 128,
    "start_time": "2024-12-19T21:57:50.031Z"
   },
   {
    "duration": 91,
    "start_time": "2024-12-19T21:57:50.161Z"
   },
   {
    "duration": 241,
    "start_time": "2024-12-19T21:57:50.461Z"
   },
   {
    "duration": 469,
    "start_time": "2024-12-19T21:57:50.704Z"
   },
   {
    "duration": 98,
    "start_time": "2024-12-19T21:57:51.176Z"
   },
   {
    "duration": 2,
    "start_time": "2024-12-19T21:57:52.229Z"
   },
   {
    "duration": 132,
    "start_time": "2024-12-19T21:58:19.169Z"
   },
   {
    "duration": 270,
    "start_time": "2024-12-19T21:58:47.212Z"
   },
   {
    "duration": 269,
    "start_time": "2024-12-19T21:59:13.934Z"
   },
   {
    "duration": 126,
    "start_time": "2024-12-19T21:59:52.413Z"
   },
   {
    "duration": 211,
    "start_time": "2024-12-19T21:59:59.648Z"
   },
   {
    "duration": 168,
    "start_time": "2024-12-19T22:01:11.021Z"
   },
   {
    "duration": 395,
    "start_time": "2024-12-19T22:01:11.382Z"
   },
   {
    "duration": 90,
    "start_time": "2024-12-19T22:01:11.779Z"
   },
   {
    "duration": 97,
    "start_time": "2024-12-19T22:01:11.870Z"
   },
   {
    "duration": 110,
    "start_time": "2024-12-19T22:01:12.046Z"
   },
   {
    "duration": 97,
    "start_time": "2024-12-19T22:01:12.204Z"
   },
   {
    "duration": 192,
    "start_time": "2024-12-19T22:01:12.388Z"
   },
   {
    "duration": 428,
    "start_time": "2024-12-19T22:01:12.733Z"
   },
   {
    "duration": 93,
    "start_time": "2024-12-19T22:01:13.163Z"
   },
   {
    "duration": 2,
    "start_time": "2024-12-19T22:01:13.261Z"
   },
   {
    "duration": 244,
    "start_time": "2024-12-19T22:01:14.453Z"
   },
   {
    "duration": 103,
    "start_time": "2024-12-19T22:01:15.953Z"
   },
   {
    "duration": 13,
    "start_time": "2024-12-19T22:01:18.198Z"
   },
   {
    "duration": 20,
    "start_time": "2024-12-19T22:01:26.954Z"
   },
   {
    "duration": 409,
    "start_time": "2024-12-19T22:01:27.522Z"
   },
   {
    "duration": 85,
    "start_time": "2024-12-19T22:01:27.941Z"
   },
   {
    "duration": 86,
    "start_time": "2024-12-19T22:01:28.265Z"
   },
   {
    "duration": 109,
    "start_time": "2024-12-19T22:01:28.880Z"
   },
   {
    "duration": 87,
    "start_time": "2024-12-19T22:01:29.183Z"
   },
   {
    "duration": 186,
    "start_time": "2024-12-19T22:01:29.591Z"
   },
   {
    "duration": 398,
    "start_time": "2024-12-19T22:01:29.865Z"
   },
   {
    "duration": 90,
    "start_time": "2024-12-19T22:01:30.264Z"
   },
   {
    "duration": 2,
    "start_time": "2024-12-19T22:01:30.531Z"
   },
   {
    "duration": 240,
    "start_time": "2024-12-19T22:01:31.617Z"
   },
   {
    "duration": 105,
    "start_time": "2024-12-19T22:01:32.034Z"
   },
   {
    "duration": 13,
    "start_time": "2024-12-19T22:01:32.896Z"
   },
   {
    "duration": 12,
    "start_time": "2024-12-19T22:07:13.630Z"
   },
   {
    "duration": 3,
    "start_time": "2024-12-19T22:07:31.551Z"
   },
   {
    "duration": 4,
    "start_time": "2024-12-19T22:07:36.950Z"
   },
   {
    "duration": 5,
    "start_time": "2024-12-19T22:08:15.041Z"
   },
   {
    "duration": 14,
    "start_time": "2024-12-19T22:08:38.114Z"
   },
   {
    "duration": 13,
    "start_time": "2024-12-19T22:08:59.243Z"
   },
   {
    "duration": 5,
    "start_time": "2024-12-19T22:09:49.948Z"
   },
   {
    "duration": 456,
    "start_time": "2024-12-19T22:11:22.999Z"
   },
   {
    "duration": 0,
    "start_time": "2024-12-19T22:11:23.457Z"
   },
   {
    "duration": 0,
    "start_time": "2024-12-19T22:11:23.458Z"
   },
   {
    "duration": 14,
    "start_time": "2024-12-19T22:11:23.664Z"
   },
   {
    "duration": 16,
    "start_time": "2024-12-19T22:11:24.051Z"
   },
   {
    "duration": 13,
    "start_time": "2024-12-19T22:11:29.369Z"
   },
   {
    "duration": 473,
    "start_time": "2024-12-19T22:11:29.799Z"
   },
   {
    "duration": 652,
    "start_time": "2024-12-19T22:11:36.725Z"
   },
   {
    "duration": 422,
    "start_time": "2024-12-19T22:11:37.379Z"
   },
   {
    "duration": 86,
    "start_time": "2024-12-19T22:11:37.803Z"
   },
   {
    "duration": 87,
    "start_time": "2024-12-19T22:11:38.356Z"
   },
   {
    "duration": 111,
    "start_time": "2024-12-19T22:11:39.596Z"
   },
   {
    "duration": 88,
    "start_time": "2024-12-19T22:11:40.065Z"
   },
   {
    "duration": 242,
    "start_time": "2024-12-19T22:11:40.473Z"
   },
   {
    "duration": 477,
    "start_time": "2024-12-19T22:11:40.738Z"
   },
   {
    "duration": 95,
    "start_time": "2024-12-19T22:11:41.217Z"
   },
   {
    "duration": 2,
    "start_time": "2024-12-19T22:11:41.314Z"
   },
   {
    "duration": 251,
    "start_time": "2024-12-19T22:11:42.112Z"
   },
   {
    "duration": 929,
    "start_time": "2024-12-19T22:12:20.136Z"
   },
   {
    "duration": 479,
    "start_time": "2024-12-19T22:12:21.067Z"
   },
   {
    "duration": 100,
    "start_time": "2024-12-19T22:12:21.548Z"
   },
   {
    "duration": 96,
    "start_time": "2024-12-19T22:12:21.651Z"
   },
   {
    "duration": 114,
    "start_time": "2024-12-19T22:12:21.748Z"
   },
   {
    "duration": 84,
    "start_time": "2024-12-19T22:12:21.926Z"
   },
   {
    "duration": 221,
    "start_time": "2024-12-19T22:12:22.230Z"
   },
   {
    "duration": 461,
    "start_time": "2024-12-19T22:12:22.651Z"
   },
   {
    "duration": 95,
    "start_time": "2024-12-19T22:12:23.114Z"
   },
   {
    "duration": 3,
    "start_time": "2024-12-19T22:12:23.579Z"
   },
   {
    "duration": 266,
    "start_time": "2024-12-19T22:12:24.930Z"
   },
   {
    "duration": 900,
    "start_time": "2024-12-19T22:14:44.112Z"
   },
   {
    "duration": 464,
    "start_time": "2024-12-19T22:14:45.014Z"
   },
   {
    "duration": 89,
    "start_time": "2024-12-19T22:14:45.479Z"
   },
   {
    "duration": 96,
    "start_time": "2024-12-19T22:14:45.570Z"
   },
   {
    "duration": 124,
    "start_time": "2024-12-19T22:14:45.668Z"
   },
   {
    "duration": 86,
    "start_time": "2024-12-19T22:14:45.793Z"
   },
   {
    "duration": 233,
    "start_time": "2024-12-19T22:14:45.881Z"
   },
   {
    "duration": 453,
    "start_time": "2024-12-19T22:14:46.117Z"
   },
   {
    "duration": 92,
    "start_time": "2024-12-19T22:14:46.573Z"
   },
   {
    "duration": 3,
    "start_time": "2024-12-19T22:14:46.667Z"
   },
   {
    "duration": 260,
    "start_time": "2024-12-19T22:14:46.857Z"
   },
   {
    "duration": 998,
    "start_time": "2024-12-19T23:35:00.128Z"
   },
   {
    "duration": 492,
    "start_time": "2024-12-19T23:35:01.128Z"
   },
   {
    "duration": 92,
    "start_time": "2024-12-19T23:35:01.622Z"
   },
   {
    "duration": 103,
    "start_time": "2024-12-19T23:35:01.716Z"
   },
   {
    "duration": 126,
    "start_time": "2024-12-19T23:35:01.820Z"
   },
   {
    "duration": 93,
    "start_time": "2024-12-19T23:35:01.949Z"
   },
   {
    "duration": 227,
    "start_time": "2024-12-19T23:35:02.203Z"
   },
   {
    "duration": 477,
    "start_time": "2024-12-19T23:35:02.432Z"
   },
   {
    "duration": 90,
    "start_time": "2024-12-19T23:35:02.911Z"
   },
   {
    "duration": 3,
    "start_time": "2024-12-19T23:35:03.071Z"
   },
   {
    "duration": 394,
    "start_time": "2024-12-19T23:42:22.949Z"
   },
   {
    "duration": 94,
    "start_time": "2024-12-19T23:42:44.943Z"
   },
   {
    "duration": 72,
    "start_time": "2024-12-19T23:42:56.080Z"
   },
   {
    "duration": 623,
    "start_time": "2024-12-19T23:44:04.217Z"
   },
   {
    "duration": 22,
    "start_time": "2024-12-19T23:44:20.273Z"
   },
   {
    "duration": 86,
    "start_time": "2024-12-19T23:44:33.830Z"
   },
   {
    "duration": 712,
    "start_time": "2024-12-19T23:45:13.579Z"
   },
   {
    "duration": 165,
    "start_time": "2024-12-19T23:45:45.988Z"
   },
   {
    "duration": 127,
    "start_time": "2024-12-19T23:49:36.701Z"
   },
   {
    "duration": 130,
    "start_time": "2024-12-19T23:50:37.026Z"
   },
   {
    "duration": 3,
    "start_time": "2024-12-19T23:50:56.979Z"
   },
   {
    "duration": 427,
    "start_time": "2024-12-19T23:50:57.128Z"
   },
   {
    "duration": 92,
    "start_time": "2024-12-19T23:50:57.557Z"
   },
   {
    "duration": 100,
    "start_time": "2024-12-19T23:50:57.651Z"
   },
   {
    "duration": 121,
    "start_time": "2024-12-19T23:50:57.849Z"
   },
   {
    "duration": 89,
    "start_time": "2024-12-19T23:50:58.059Z"
   },
   {
    "duration": 212,
    "start_time": "2024-12-19T23:50:58.211Z"
   },
   {
    "duration": 418,
    "start_time": "2024-12-19T23:50:58.425Z"
   },
   {
    "duration": 99,
    "start_time": "2024-12-19T23:50:58.845Z"
   },
   {
    "duration": 1312,
    "start_time": "2024-12-19T23:50:58.946Z"
   },
   {
    "duration": 174,
    "start_time": "2024-12-19T23:51:00.260Z"
   },
   {
    "duration": 140,
    "start_time": "2024-12-19T23:51:00.436Z"
   },
   {
    "duration": 15,
    "start_time": "2024-12-19T23:51:00.578Z"
   },
   {
    "duration": 3,
    "start_time": "2024-12-19T23:51:33.698Z"
   },
   {
    "duration": 394,
    "start_time": "2024-12-19T23:51:33.936Z"
   },
   {
    "duration": 86,
    "start_time": "2024-12-19T23:51:34.332Z"
   },
   {
    "duration": 91,
    "start_time": "2024-12-19T23:51:35.139Z"
   },
   {
    "duration": 119,
    "start_time": "2024-12-19T23:51:37.197Z"
   },
   {
    "duration": 107,
    "start_time": "2024-12-19T23:51:37.480Z"
   },
   {
    "duration": 246,
    "start_time": "2024-12-19T23:51:37.707Z"
   },
   {
    "duration": 448,
    "start_time": "2024-12-19T23:51:37.955Z"
   },
   {
    "duration": 98,
    "start_time": "2024-12-19T23:51:38.405Z"
   },
   {
    "duration": 1400,
    "start_time": "2024-12-19T23:51:40.543Z"
   },
   {
    "duration": 170,
    "start_time": "2024-12-19T23:51:43.617Z"
   },
   {
    "duration": 129,
    "start_time": "2024-12-19T23:51:45.528Z"
   },
   {
    "duration": 182,
    "start_time": "2024-12-19T23:52:49.756Z"
   },
   {
    "duration": 171,
    "start_time": "2024-12-19T23:53:06.864Z"
   },
   {
    "duration": 172,
    "start_time": "2024-12-19T23:53:47.333Z"
   },
   {
    "duration": 164,
    "start_time": "2024-12-19T23:53:56.898Z"
   },
   {
    "duration": 362,
    "start_time": "2024-12-19T23:55:06.903Z"
   },
   {
    "duration": 2,
    "start_time": "2024-12-19T23:56:34.480Z"
   },
   {
    "duration": 5,
    "start_time": "2024-12-19T23:57:28.089Z"
   },
   {
    "duration": 391,
    "start_time": "2024-12-19T23:57:40.504Z"
   },
   {
    "duration": 613,
    "start_time": "2024-12-19T23:59:31.311Z"
   },
   {
    "duration": 61,
    "start_time": "2024-12-20T00:00:20.202Z"
   },
   {
    "duration": 258,
    "start_time": "2024-12-20T00:00:33.684Z"
   },
   {
    "duration": 245,
    "start_time": "2024-12-20T00:00:43.649Z"
   },
   {
    "duration": 4823,
    "start_time": "2024-12-20T00:00:44.736Z"
   },
   {
    "duration": 3,
    "start_time": "2024-12-20T00:01:05.180Z"
   },
   {
    "duration": 403,
    "start_time": "2024-12-20T00:01:05.707Z"
   },
   {
    "duration": 105,
    "start_time": "2024-12-20T00:01:06.113Z"
   },
   {
    "duration": 88,
    "start_time": "2024-12-20T00:01:06.244Z"
   },
   {
    "duration": 120,
    "start_time": "2024-12-20T00:01:06.690Z"
   },
   {
    "duration": 109,
    "start_time": "2024-12-20T00:01:07.231Z"
   },
   {
    "duration": 222,
    "start_time": "2024-12-20T00:01:07.637Z"
   },
   {
    "duration": 464,
    "start_time": "2024-12-20T00:01:08.115Z"
   },
   {
    "duration": 91,
    "start_time": "2024-12-20T00:01:08.898Z"
   },
   {
    "duration": 1435,
    "start_time": "2024-12-20T00:01:09.487Z"
   },
   {
    "duration": 208,
    "start_time": "2024-12-20T00:01:10.932Z"
   },
   {
    "duration": 334,
    "start_time": "2024-12-20T00:01:11.142Z"
   },
   {
    "duration": 3,
    "start_time": "2024-12-20T00:01:11.826Z"
   },
   {
    "duration": 280,
    "start_time": "2024-12-20T00:01:12.630Z"
   },
   {
    "duration": 4572,
    "start_time": "2024-12-20T00:01:13.275Z"
   },
   {
    "duration": 238936,
    "start_time": "2024-12-20T00:03:32.419Z"
   },
   {
    "duration": 618,
    "start_time": "2024-12-20T00:07:31.357Z"
   },
   {
    "duration": 151,
    "start_time": "2024-12-20T00:27:27.338Z"
   },
   {
    "duration": 317,
    "start_time": "2024-12-20T00:27:29.858Z"
   },
   {
    "duration": 2,
    "start_time": "2024-12-20T00:27:30.178Z"
   },
   {
    "duration": 260,
    "start_time": "2024-12-20T00:27:30.242Z"
   },
   {
    "duration": 4153,
    "start_time": "2024-12-20T00:27:30.505Z"
   },
   {
    "duration": 245063,
    "start_time": "2024-12-20T00:27:34.660Z"
   },
   {
    "duration": 4,
    "start_time": "2024-12-20T00:31:39.843Z"
   },
   {
    "duration": 402,
    "start_time": "2024-12-20T00:31:39.850Z"
   },
   {
    "duration": 90,
    "start_time": "2024-12-20T00:31:40.254Z"
   },
   {
    "duration": 104,
    "start_time": "2024-12-20T00:31:40.345Z"
   },
   {
    "duration": 129,
    "start_time": "2024-12-20T00:31:40.451Z"
   },
   {
    "duration": 88,
    "start_time": "2024-12-20T00:31:40.581Z"
   },
   {
    "duration": 198,
    "start_time": "2024-12-20T00:31:40.671Z"
   },
   {
    "duration": 417,
    "start_time": "2024-12-20T00:31:40.873Z"
   },
   {
    "duration": 94,
    "start_time": "2024-12-20T00:31:41.292Z"
   },
   {
    "duration": 1327,
    "start_time": "2024-12-20T00:31:41.388Z"
   },
   {
    "duration": 204,
    "start_time": "2024-12-20T00:31:42.717Z"
   },
   {
    "duration": 98,
    "start_time": "2024-12-20T00:33:28.023Z"
   },
   {
    "duration": 178,
    "start_time": "2024-12-20T00:33:45.479Z"
   },
   {
    "duration": 92,
    "start_time": "2024-12-20T00:34:38.757Z"
   },
   {
    "duration": 178,
    "start_time": "2024-12-20T00:34:40.596Z"
   },
   {
    "duration": 3,
    "start_time": "2024-12-20T00:35:37.683Z"
   },
   {
    "duration": 389,
    "start_time": "2024-12-20T00:35:37.880Z"
   },
   {
    "duration": 95,
    "start_time": "2024-12-20T00:35:38.271Z"
   },
   {
    "duration": 86,
    "start_time": "2024-12-20T00:35:38.512Z"
   },
   {
    "duration": 113,
    "start_time": "2024-12-20T00:35:41.654Z"
   },
   {
    "duration": 85,
    "start_time": "2024-12-20T00:35:43.437Z"
   },
   {
    "duration": 190,
    "start_time": "2024-12-20T00:35:44.556Z"
   },
   {
    "duration": 406,
    "start_time": "2024-12-20T00:35:45.484Z"
   },
   {
    "duration": 89,
    "start_time": "2024-12-20T00:35:46.454Z"
   },
   {
    "duration": 1321,
    "start_time": "2024-12-20T00:35:48.580Z"
   },
   {
    "duration": 156,
    "start_time": "2024-12-20T00:35:54.563Z"
   },
   {
    "duration": 319,
    "start_time": "2024-12-20T00:35:55.468Z"
   },
   {
    "duration": 2,
    "start_time": "2024-12-20T00:35:56.392Z"
   },
   {
    "duration": 3,
    "start_time": "2024-12-20T00:36:32.440Z"
   },
   {
    "duration": 384,
    "start_time": "2024-12-20T00:36:32.874Z"
   },
   {
    "duration": 86,
    "start_time": "2024-12-20T00:36:33.263Z"
   },
   {
    "duration": 92,
    "start_time": "2024-12-20T00:36:33.473Z"
   },
   {
    "duration": 111,
    "start_time": "2024-12-20T00:36:33.982Z"
   },
   {
    "duration": 92,
    "start_time": "2024-12-20T00:36:34.862Z"
   },
   {
    "duration": 197,
    "start_time": "2024-12-20T00:36:35.609Z"
   },
   {
    "duration": 406,
    "start_time": "2024-12-20T00:36:36.723Z"
   },
   {
    "duration": 89,
    "start_time": "2024-12-20T00:36:37.496Z"
   },
   {
    "duration": 1337,
    "start_time": "2024-12-20T00:36:41.125Z"
   },
   {
    "duration": 169,
    "start_time": "2024-12-20T00:36:57.667Z"
   },
   {
    "duration": 331,
    "start_time": "2024-12-20T00:36:58.627Z"
   },
   {
    "duration": 530,
    "start_time": "2024-12-20T00:38:11.722Z"
   },
   {
    "duration": 3,
    "start_time": "2024-12-20T00:38:35.437Z"
   },
   {
    "duration": 381,
    "start_time": "2024-12-20T00:38:41.219Z"
   },
   {
    "duration": 406,
    "start_time": "2024-12-20T00:38:53.906Z"
   },
   {
    "duration": 616,
    "start_time": "2024-12-20T00:39:35.029Z"
   },
   {
    "duration": 600,
    "start_time": "2024-12-20T00:40:01.316Z"
   },
   {
    "duration": 4128,
    "start_time": "2024-12-20T00:40:02.415Z"
   },
   {
    "duration": 463,
    "start_time": "2024-12-20T00:44:38.222Z"
   },
   {
    "duration": 426,
    "start_time": "2024-12-20T00:49:47.411Z"
   },
   {
    "duration": 4,
    "start_time": "2024-12-20T00:50:46.904Z"
   },
   {
    "duration": 394,
    "start_time": "2024-12-20T00:50:50.712Z"
   },
   {
    "duration": 92,
    "start_time": "2024-12-20T00:50:55.023Z"
   },
   {
    "duration": 90,
    "start_time": "2024-12-20T00:50:58.579Z"
   },
   {
    "duration": 114,
    "start_time": "2024-12-20T00:50:59.653Z"
   },
   {
    "duration": 86,
    "start_time": "2024-12-20T00:51:02.722Z"
   },
   {
    "duration": 209,
    "start_time": "2024-12-20T00:51:07.705Z"
   },
   {
    "duration": 404,
    "start_time": "2024-12-20T00:51:10.738Z"
   },
   {
    "duration": 88,
    "start_time": "2024-12-20T00:51:18.611Z"
   },
   {
    "duration": 1306,
    "start_time": "2024-12-20T00:51:19.482Z"
   },
   {
    "duration": 162,
    "start_time": "2024-12-20T00:51:20.790Z"
   },
   {
    "duration": 309,
    "start_time": "2024-12-20T00:51:21.553Z"
   },
   {
    "duration": 637,
    "start_time": "2024-12-20T00:51:23.433Z"
   },
   {
    "duration": 4071,
    "start_time": "2024-12-20T00:51:25.672Z"
   },
   {
    "duration": 239604,
    "start_time": "2024-12-20T00:51:29.748Z"
   },
   {
    "duration": 3,
    "start_time": "2024-12-20T00:55:29.353Z"
   },
   {
    "duration": 436,
    "start_time": "2024-12-20T00:55:29.358Z"
   },
   {
    "duration": 0,
    "start_time": "2024-12-20T00:55:29.796Z"
   },
   {
    "duration": 985,
    "start_time": "2024-12-20T00:56:56.340Z"
   },
   {
    "duration": 476,
    "start_time": "2024-12-20T00:56:57.327Z"
   },
   {
    "duration": 85,
    "start_time": "2024-12-20T00:56:58.951Z"
   },
   {
    "duration": 88,
    "start_time": "2024-12-20T00:56:59.818Z"
   },
   {
    "duration": 112,
    "start_time": "2024-12-20T00:57:02.314Z"
   },
   {
    "duration": 85,
    "start_time": "2024-12-20T00:57:03.037Z"
   },
   {
    "duration": 233,
    "start_time": "2024-12-20T00:57:03.803Z"
   },
   {
    "duration": 452,
    "start_time": "2024-12-20T00:57:04.483Z"
   },
   {
    "duration": 91,
    "start_time": "2024-12-20T00:57:05.495Z"
   },
   {
    "duration": 1358,
    "start_time": "2024-12-20T00:57:06.509Z"
   },
   {
    "duration": 181,
    "start_time": "2024-12-20T00:57:07.870Z"
   },
   {
    "duration": 318,
    "start_time": "2024-12-20T00:57:08.450Z"
   },
   {
    "duration": 619,
    "start_time": "2024-12-20T00:57:10.248Z"
   },
   {
    "duration": 4103,
    "start_time": "2024-12-20T00:57:14.932Z"
   },
   {
    "duration": 227094,
    "start_time": "2024-12-20T00:57:19.037Z"
   },
   {
    "duration": 3,
    "start_time": "2024-12-20T01:01:06.133Z"
   },
   {
    "duration": 908,
    "start_time": "2024-12-20T01:01:06.138Z"
   },
   {
    "duration": 162,
    "start_time": "2024-12-20T01:03:21.536Z"
   },
   {
    "duration": 964,
    "start_time": "2024-12-20T01:03:28.941Z"
   },
   {
    "duration": 479,
    "start_time": "2024-12-20T01:03:29.907Z"
   },
   {
    "duration": 99,
    "start_time": "2024-12-20T01:03:30.389Z"
   },
   {
    "duration": 95,
    "start_time": "2024-12-20T01:03:30.490Z"
   },
   {
    "duration": 182,
    "start_time": "2024-12-20T01:03:30.587Z"
   },
   {
    "duration": 95,
    "start_time": "2024-12-20T01:03:30.771Z"
   },
   {
    "duration": 239,
    "start_time": "2024-12-20T01:03:30.868Z"
   },
   {
    "duration": 489,
    "start_time": "2024-12-20T01:03:31.109Z"
   },
   {
    "duration": 99,
    "start_time": "2024-12-20T01:03:31.601Z"
   },
   {
    "duration": 1355,
    "start_time": "2024-12-20T01:03:31.701Z"
   },
   {
    "duration": 174,
    "start_time": "2024-12-20T01:03:33.058Z"
   },
   {
    "duration": 349,
    "start_time": "2024-12-20T01:03:33.234Z"
   },
   {
    "duration": 607,
    "start_time": "2024-12-20T01:03:33.585Z"
   },
   {
    "duration": 4147,
    "start_time": "2024-12-20T01:03:34.194Z"
   },
   {
    "duration": 229164,
    "start_time": "2024-12-20T01:03:38.343Z"
   },
   {
    "duration": 3,
    "start_time": "2024-12-20T01:07:27.509Z"
   },
   {
    "duration": 749,
    "start_time": "2024-12-20T01:07:27.514Z"
   },
   {
    "duration": 0,
    "start_time": "2024-12-20T01:07:28.265Z"
   },
   {
    "duration": 937,
    "start_time": "2024-12-20T10:52:54.742Z"
   },
   {
    "duration": 453,
    "start_time": "2024-12-20T10:52:55.917Z"
   },
   {
    "duration": 84,
    "start_time": "2024-12-20T10:52:56.432Z"
   },
   {
    "duration": 86,
    "start_time": "2024-12-20T10:52:56.767Z"
   },
   {
    "duration": 110,
    "start_time": "2024-12-20T10:52:57.463Z"
   },
   {
    "duration": 84,
    "start_time": "2024-12-20T10:52:57.709Z"
   },
   {
    "duration": 219,
    "start_time": "2024-12-20T10:52:58.013Z"
   },
   {
    "duration": 440,
    "start_time": "2024-12-20T10:52:58.301Z"
   },
   {
    "duration": 87,
    "start_time": "2024-12-20T10:52:58.812Z"
   },
   {
    "duration": 1316,
    "start_time": "2024-12-20T10:53:00.607Z"
   },
   {
    "duration": 433,
    "start_time": "2024-12-20T10:53:52.972Z"
   },
   {
    "duration": 404,
    "start_time": "2024-12-20T10:54:04.205Z"
   },
   {
    "duration": 457,
    "start_time": "2024-12-20T10:54:07.065Z"
   },
   {
    "duration": 2629,
    "start_time": "2024-12-20T10:54:09.717Z"
   },
   {
    "duration": 188969,
    "start_time": "2024-12-20T10:54:12.349Z"
   },
   {
    "duration": 3,
    "start_time": "2024-12-20T10:57:21.321Z"
   },
   {
    "duration": 386,
    "start_time": "2024-12-20T10:57:21.326Z"
   },
   {
    "duration": 89,
    "start_time": "2024-12-20T10:57:21.715Z"
   },
   {
    "duration": 94,
    "start_time": "2024-12-20T10:57:21.805Z"
   },
   {
    "duration": 116,
    "start_time": "2024-12-20T10:57:21.901Z"
   },
   {
    "duration": 88,
    "start_time": "2024-12-20T10:57:22.019Z"
   },
   {
    "duration": 194,
    "start_time": "2024-12-20T10:57:22.109Z"
   },
   {
    "duration": 407,
    "start_time": "2024-12-20T10:57:22.305Z"
   },
   {
    "duration": 91,
    "start_time": "2024-12-20T10:57:22.715Z"
   },
   {
    "duration": 1313,
    "start_time": "2024-12-20T10:57:22.808Z"
   },
   {
    "duration": 164,
    "start_time": "2024-12-20T10:57:24.123Z"
   },
   {
    "duration": 423,
    "start_time": "2024-12-20T10:57:24.289Z"
   },
   {
    "duration": 493,
    "start_time": "2024-12-20T10:57:24.714Z"
   },
   {
    "duration": 2558,
    "start_time": "2024-12-20T10:57:25.208Z"
   },
   {
    "duration": 2548,
    "start_time": "2024-12-20T11:01:46.398Z"
   },
   {
    "duration": 208936,
    "start_time": "2024-12-20T11:01:51.158Z"
   },
   {
    "duration": 269,
    "start_time": "2024-12-20T11:05:38.714Z"
   },
   {
    "duration": 344648,
    "start_time": "2024-12-20T11:06:20.901Z"
   },
   {
    "duration": 1663,
    "start_time": "2024-12-20T11:19:12.822Z"
   },
   {
    "duration": 1631,
    "start_time": "2024-12-20T11:19:58.012Z"
   },
   {
    "duration": 6,
    "start_time": "2024-12-20T11:20:33.995Z"
   },
   {
    "duration": 16,
    "start_time": "2024-12-20T11:20:40.991Z"
   },
   {
    "duration": 3,
    "start_time": "2024-12-20T11:20:49.279Z"
   },
   {
    "duration": 373,
    "start_time": "2024-12-20T11:20:49.842Z"
   },
   {
    "duration": 89,
    "start_time": "2024-12-20T11:20:50.217Z"
   },
   {
    "duration": 90,
    "start_time": "2024-12-20T11:20:50.308Z"
   },
   {
    "duration": 116,
    "start_time": "2024-12-20T11:20:50.527Z"
   },
   {
    "duration": 88,
    "start_time": "2024-12-20T11:20:50.676Z"
   },
   {
    "duration": 190,
    "start_time": "2024-12-20T11:20:50.903Z"
   },
   {
    "duration": 396,
    "start_time": "2024-12-20T11:20:51.095Z"
   },
   {
    "duration": 91,
    "start_time": "2024-12-20T11:20:51.494Z"
   },
   {
    "duration": 1288,
    "start_time": "2024-12-20T11:20:51.587Z"
   },
   {
    "duration": 164,
    "start_time": "2024-12-20T11:20:52.878Z"
   },
   {
    "duration": 414,
    "start_time": "2024-12-20T11:20:53.045Z"
   },
   {
    "duration": 464,
    "start_time": "2024-12-20T11:20:53.461Z"
   },
   {
    "duration": 2617,
    "start_time": "2024-12-20T11:20:53.926Z"
   },
   {
    "duration": 107,
    "start_time": "2024-12-20T11:20:56.545Z"
   },
   {
    "duration": 19,
    "start_time": "2024-12-20T11:21:13.885Z"
   },
   {
    "duration": 898,
    "start_time": "2024-12-20T11:39:24.731Z"
   },
   {
    "duration": 476,
    "start_time": "2024-12-20T11:39:25.632Z"
   },
   {
    "duration": 89,
    "start_time": "2024-12-20T11:39:26.110Z"
   },
   {
    "duration": 95,
    "start_time": "2024-12-20T11:39:26.201Z"
   },
   {
    "duration": 109,
    "start_time": "2024-12-20T11:39:26.416Z"
   },
   {
    "duration": 83,
    "start_time": "2024-12-20T11:39:26.936Z"
   },
   {
    "duration": 215,
    "start_time": "2024-12-20T11:39:27.322Z"
   },
   {
    "duration": 449,
    "start_time": "2024-12-20T11:39:27.618Z"
   },
   {
    "duration": 95,
    "start_time": "2024-12-20T11:39:28.068Z"
   },
   {
    "duration": 1350,
    "start_time": "2024-12-20T11:39:28.485Z"
   },
   {
    "duration": 168,
    "start_time": "2024-12-20T11:39:29.842Z"
   },
   {
    "duration": 427,
    "start_time": "2024-12-20T11:39:30.061Z"
   },
   {
    "duration": 497,
    "start_time": "2024-12-20T11:39:31.194Z"
   },
   {
    "duration": 2526,
    "start_time": "2024-12-20T11:39:39.531Z"
   },
   {
    "duration": 894,
    "start_time": "2024-12-30T09:36:11.897Z"
   },
   {
    "duration": 480,
    "start_time": "2024-12-30T09:36:12.793Z"
   },
   {
    "duration": 89,
    "start_time": "2024-12-30T09:36:13.275Z"
   },
   {
    "duration": 89,
    "start_time": "2024-12-30T09:36:13.917Z"
   },
   {
    "duration": 111,
    "start_time": "2024-12-30T09:36:15.585Z"
   },
   {
    "duration": 88,
    "start_time": "2024-12-30T09:36:16.111Z"
   },
   {
    "duration": 218,
    "start_time": "2024-12-30T09:36:16.553Z"
   },
   {
    "duration": 449,
    "start_time": "2024-12-30T09:36:17.082Z"
   },
   {
    "duration": 90,
    "start_time": "2024-12-30T09:36:17.794Z"
   },
   {
    "duration": 1325,
    "start_time": "2024-12-30T09:36:18.306Z"
   },
   {
    "duration": 178,
    "start_time": "2024-12-30T09:36:19.634Z"
   },
   {
    "duration": 428,
    "start_time": "2024-12-30T09:36:19.813Z"
   },
   {
    "duration": 504,
    "start_time": "2024-12-30T09:36:20.243Z"
   },
   {
    "duration": 2816,
    "start_time": "2024-12-30T09:36:24.745Z"
   },
   {
    "duration": 889,
    "start_time": "2025-01-01T05:52:37.452Z"
   },
   {
    "duration": 486,
    "start_time": "2025-01-01T05:52:46.002Z"
   },
   {
    "duration": 89,
    "start_time": "2025-01-01T05:52:46.827Z"
   },
   {
    "duration": 91,
    "start_time": "2025-01-01T05:52:47.338Z"
   },
   {
    "duration": 121,
    "start_time": "2025-01-01T05:52:48.087Z"
   },
   {
    "duration": 87,
    "start_time": "2025-01-01T05:52:48.419Z"
   },
   {
    "duration": 218,
    "start_time": "2025-01-01T05:52:48.758Z"
   },
   {
    "duration": 489,
    "start_time": "2025-01-01T05:52:51.384Z"
   },
   {
    "duration": 92,
    "start_time": "2025-01-01T05:52:51.896Z"
   },
   {
    "duration": 1335,
    "start_time": "2025-01-01T05:52:53.330Z"
   },
   {
    "duration": 166,
    "start_time": "2025-01-01T05:52:54.671Z"
   },
   {
    "duration": 425,
    "start_time": "2025-01-01T05:52:55.138Z"
   },
   {
    "duration": 508,
    "start_time": "2025-01-01T05:52:55.887Z"
   },
   {
    "duration": 2652,
    "start_time": "2025-01-01T05:53:02.035Z"
   },
   {
    "duration": 952,
    "start_time": "2025-01-01T09:28:33.033Z"
   },
   {
    "duration": 469,
    "start_time": "2025-01-01T09:28:34.388Z"
   },
   {
    "duration": 85,
    "start_time": "2025-01-01T09:28:35.410Z"
   },
   {
    "duration": 87,
    "start_time": "2025-01-01T09:28:36.141Z"
   },
   {
    "duration": 113,
    "start_time": "2025-01-01T09:28:36.732Z"
   },
   {
    "duration": 85,
    "start_time": "2025-01-01T09:28:36.969Z"
   },
   {
    "duration": 216,
    "start_time": "2025-01-01T09:28:37.224Z"
   },
   {
    "duration": 473,
    "start_time": "2025-01-01T09:28:37.447Z"
   },
   {
    "duration": 99,
    "start_time": "2025-01-01T09:28:37.922Z"
   },
   {
    "duration": 1337,
    "start_time": "2025-01-01T09:28:38.023Z"
   },
   {
    "duration": 171,
    "start_time": "2025-01-01T09:28:39.362Z"
   },
   {
    "duration": 433,
    "start_time": "2025-01-01T09:28:39.535Z"
   },
   {
    "duration": 531,
    "start_time": "2025-01-01T09:28:39.969Z"
   },
   {
    "duration": 2747,
    "start_time": "2025-01-01T09:28:41.308Z"
   },
   {
    "duration": 1318589,
    "start_time": "2025-01-01T09:28:44.058Z"
   },
   {
    "duration": 290,
    "start_time": "2025-01-01T09:50:42.649Z"
   },
   {
    "duration": 0,
    "start_time": "2025-01-01T09:50:42.941Z"
   },
   {
    "duration": 0,
    "start_time": "2025-01-01T09:50:42.942Z"
   },
   {
    "duration": 3641,
    "start_time": "2025-01-01T09:51:52.166Z"
   },
   {
    "duration": 156832,
    "start_time": "2025-01-01T09:52:02.614Z"
   },
   {
    "duration": 1612,
    "start_time": "2025-01-01T09:54:58.834Z"
   },
   {
    "duration": 611,
    "start_time": "2025-01-01T09:55:46.400Z"
   },
   {
    "duration": 3,
    "start_time": "2025-01-01T09:57:45.067Z"
   },
   {
    "duration": 393,
    "start_time": "2025-01-01T09:57:45.981Z"
   },
   {
    "duration": 85,
    "start_time": "2025-01-01T09:57:46.376Z"
   },
   {
    "duration": 86,
    "start_time": "2025-01-01T09:57:47.283Z"
   },
   {
    "duration": 114,
    "start_time": "2025-01-01T09:57:47.676Z"
   },
   {
    "duration": 90,
    "start_time": "2025-01-01T09:57:47.860Z"
   },
   {
    "duration": 198,
    "start_time": "2025-01-01T09:57:48.029Z"
   },
   {
    "duration": 407,
    "start_time": "2025-01-01T09:57:48.232Z"
   },
   {
    "duration": 98,
    "start_time": "2025-01-01T09:57:48.641Z"
   },
   {
    "duration": 1297,
    "start_time": "2025-01-01T09:57:48.849Z"
   },
   {
    "duration": 167,
    "start_time": "2025-01-01T09:57:50.149Z"
   },
   {
    "duration": 411,
    "start_time": "2025-01-01T09:57:50.886Z"
   },
   {
    "duration": 479,
    "start_time": "2025-01-01T09:57:51.299Z"
   },
   {
    "duration": 2779,
    "start_time": "2025-01-01T09:57:53.069Z"
   },
   {
    "duration": 350,
    "start_time": "2025-01-01T09:58:00.258Z"
   },
   {
    "duration": 52,
    "start_time": "2025-01-01T09:58:15.903Z"
   },
   {
    "duration": 3303,
    "start_time": "2025-01-01T09:59:28.966Z"
   },
   {
    "duration": 3230,
    "start_time": "2025-01-01T09:59:51.593Z"
   },
   {
    "duration": 944,
    "start_time": "2025-01-01T10:02:09.761Z"
   },
   {
    "duration": 470,
    "start_time": "2025-01-01T10:02:11.282Z"
   },
   {
    "duration": 88,
    "start_time": "2025-01-01T10:02:15.982Z"
   },
   {
    "duration": 90,
    "start_time": "2025-01-01T10:02:16.322Z"
   },
   {
    "duration": 121,
    "start_time": "2025-01-01T10:02:16.742Z"
   },
   {
    "duration": 85,
    "start_time": "2025-01-01T10:02:16.932Z"
   },
   {
    "duration": 219,
    "start_time": "2025-01-01T10:02:17.107Z"
   },
   {
    "duration": 501,
    "start_time": "2025-01-01T10:02:17.328Z"
   },
   {
    "duration": 99,
    "start_time": "2025-01-01T10:02:17.833Z"
   },
   {
    "duration": 1366,
    "start_time": "2025-01-01T10:02:17.934Z"
   },
   {
    "duration": 172,
    "start_time": "2025-01-01T10:02:19.303Z"
   },
   {
    "duration": 445,
    "start_time": "2025-01-01T10:02:19.477Z"
   },
   {
    "duration": 529,
    "start_time": "2025-01-01T10:02:19.931Z"
   },
   {
    "duration": 2888,
    "start_time": "2025-01-01T10:02:20.463Z"
   },
   {
    "duration": 173,
    "start_time": "2025-01-01T10:04:07.615Z"
   },
   {
    "duration": 923,
    "start_time": "2025-01-01T10:04:13.682Z"
   },
   {
    "duration": 461,
    "start_time": "2025-01-01T10:04:14.607Z"
   },
   {
    "duration": 90,
    "start_time": "2025-01-01T10:04:15.070Z"
   },
   {
    "duration": 98,
    "start_time": "2025-01-01T10:04:15.163Z"
   },
   {
    "duration": 185,
    "start_time": "2025-01-01T10:04:15.264Z"
   },
   {
    "duration": 85,
    "start_time": "2025-01-01T10:04:16.655Z"
   },
   {
    "duration": 223,
    "start_time": "2025-01-01T10:04:17.338Z"
   },
   {
    "duration": 500,
    "start_time": "2025-01-01T10:04:17.563Z"
   },
   {
    "duration": 96,
    "start_time": "2025-01-01T10:04:18.065Z"
   },
   {
    "duration": 1317,
    "start_time": "2025-01-01T10:04:18.163Z"
   },
   {
    "duration": 170,
    "start_time": "2025-01-01T10:04:19.483Z"
   },
   {
    "duration": 449,
    "start_time": "2025-01-01T10:04:19.655Z"
   },
   {
    "duration": 512,
    "start_time": "2025-01-01T10:04:20.105Z"
   },
   {
    "duration": 2832,
    "start_time": "2025-01-01T10:04:20.619Z"
   },
   {
    "duration": 231,
    "start_time": "2025-01-01T10:04:24.406Z"
   },
   {
    "duration": 3,
    "start_time": "2025-01-01T10:05:06.060Z"
   },
   {
    "duration": 406,
    "start_time": "2025-01-01T10:05:06.634Z"
   },
   {
    "duration": 89,
    "start_time": "2025-01-01T10:05:07.042Z"
   },
   {
    "duration": 91,
    "start_time": "2025-01-01T10:05:07.684Z"
   },
   {
    "duration": 117,
    "start_time": "2025-01-01T10:05:08.069Z"
   },
   {
    "duration": 87,
    "start_time": "2025-01-01T10:05:08.260Z"
   },
   {
    "duration": 185,
    "start_time": "2025-01-01T10:05:08.415Z"
   },
   {
    "duration": 403,
    "start_time": "2025-01-01T10:05:08.736Z"
   },
   {
    "duration": 96,
    "start_time": "2025-01-01T10:05:09.141Z"
   },
   {
    "duration": 1292,
    "start_time": "2025-01-01T10:05:09.377Z"
   },
   {
    "duration": 164,
    "start_time": "2025-01-01T10:05:10.672Z"
   },
   {
    "duration": 434,
    "start_time": "2025-01-01T10:05:10.838Z"
   },
   {
    "duration": 488,
    "start_time": "2025-01-01T10:05:11.274Z"
   },
   {
    "duration": 2790,
    "start_time": "2025-01-01T10:05:11.764Z"
   },
   {
    "duration": 71,
    "start_time": "2025-01-01T10:07:02.794Z"
   },
   {
    "duration": 7016,
    "start_time": "2025-01-01T10:10:36.939Z"
   },
   {
    "duration": 7002,
    "start_time": "2025-01-01T10:11:10.428Z"
   },
   {
    "duration": 1081,
    "start_time": "2025-01-01T13:45:16.328Z"
   },
   {
    "duration": 477,
    "start_time": "2025-01-01T13:45:17.411Z"
   },
   {
    "duration": 92,
    "start_time": "2025-01-01T13:45:17.890Z"
   },
   {
    "duration": 96,
    "start_time": "2025-01-01T13:45:17.984Z"
   },
   {
    "duration": 117,
    "start_time": "2025-01-01T13:45:18.082Z"
   },
   {
    "duration": 89,
    "start_time": "2025-01-01T13:45:18.200Z"
   },
   {
    "duration": 229,
    "start_time": "2025-01-01T13:45:18.291Z"
   },
   {
    "duration": 470,
    "start_time": "2025-01-01T13:45:18.522Z"
   },
   {
    "duration": 94,
    "start_time": "2025-01-01T13:45:18.994Z"
   },
   {
    "duration": 1355,
    "start_time": "2025-01-01T13:45:19.091Z"
   },
   {
    "duration": 167,
    "start_time": "2025-01-01T13:45:20.448Z"
   },
   {
    "duration": 435,
    "start_time": "2025-01-01T13:45:20.617Z"
   },
   {
    "duration": 4,
    "start_time": "2025-01-01T13:45:21.054Z"
   },
   {
    "duration": 915,
    "start_time": "2025-01-02T00:51:03.276Z"
   },
   {
    "duration": 459,
    "start_time": "2025-01-02T00:51:04.193Z"
   },
   {
    "duration": 84,
    "start_time": "2025-01-02T00:51:05.312Z"
   },
   {
    "duration": 87,
    "start_time": "2025-01-02T00:51:05.974Z"
   },
   {
    "duration": 65,
    "start_time": "2025-01-02T00:51:06.802Z"
   },
   {
    "duration": 84,
    "start_time": "2025-01-02T00:51:08.942Z"
   },
   {
    "duration": 224,
    "start_time": "2025-01-02T00:51:09.655Z"
   },
   {
    "duration": 447,
    "start_time": "2025-01-02T00:51:10.811Z"
   },
   {
    "duration": 100,
    "start_time": "2025-01-02T00:51:12.605Z"
   },
   {
    "duration": 1373,
    "start_time": "2025-01-02T00:51:13.755Z"
   },
   {
    "duration": 175,
    "start_time": "2025-01-02T00:51:15.130Z"
   },
   {
    "duration": 2316,
    "start_time": "2025-01-02T00:51:21.455Z"
   },
   {
    "duration": 3,
    "start_time": "2025-01-02T00:52:08.668Z"
   },
   {
    "duration": 395,
    "start_time": "2025-01-02T00:52:09.158Z"
   },
   {
    "duration": 85,
    "start_time": "2025-01-02T00:52:10.180Z"
   },
   {
    "duration": 86,
    "start_time": "2025-01-02T00:52:10.450Z"
   },
   {
    "duration": 64,
    "start_time": "2025-01-02T00:52:10.875Z"
   },
   {
    "duration": 84,
    "start_time": "2025-01-02T00:52:11.307Z"
   },
   {
    "duration": 190,
    "start_time": "2025-01-02T00:52:11.778Z"
   },
   {
    "duration": 425,
    "start_time": "2025-01-02T00:52:12.009Z"
   },
   {
    "duration": 94,
    "start_time": "2025-01-02T00:52:12.768Z"
   },
   {
    "duration": 1528,
    "start_time": "2025-01-02T00:52:13.502Z"
   },
   {
    "duration": 197,
    "start_time": "2025-01-02T00:52:15.032Z"
   },
   {
    "duration": 45,
    "start_time": "2025-01-02T00:52:15.232Z"
   },
   {
    "duration": 40,
    "start_time": "2025-01-02T00:52:53.245Z"
   },
   {
    "duration": 87,
    "start_time": "2025-01-02T01:03:36.033Z"
   },
   {
    "duration": 215,
    "start_time": "2025-01-02T01:03:54.043Z"
   },
   {
    "duration": 26,
    "start_time": "2025-01-02T01:05:02.968Z"
   },
   {
    "duration": 2492,
    "start_time": "2025-01-02T01:05:27.049Z"
   },
   {
    "duration": 27,
    "start_time": "2025-01-02T01:06:21.034Z"
   },
   {
    "duration": 377,
    "start_time": "2025-01-02T01:06:37.230Z"
   },
   {
    "duration": 165,
    "start_time": "2025-01-02T01:07:36.311Z"
   },
   {
    "duration": 359,
    "start_time": "2025-01-02T01:08:02.236Z"
   },
   {
    "duration": 2537,
    "start_time": "2025-01-02T01:09:34.730Z"
   },
   {
    "duration": 379,
    "start_time": "2025-01-02T01:09:37.269Z"
   },
   {
    "duration": 2505,
    "start_time": "2025-01-02T01:10:37.926Z"
   },
   {
    "duration": 2423,
    "start_time": "2025-01-02T01:12:31.938Z"
   },
   {
    "duration": 2541,
    "start_time": "2025-01-02T01:12:48.313Z"
   },
   {
    "duration": 6,
    "start_time": "2025-01-02T01:14:24.223Z"
   },
   {
    "duration": 3,
    "start_time": "2025-01-02T01:14:35.805Z"
   },
   {
    "duration": 2531,
    "start_time": "2025-01-02T01:14:44.604Z"
   },
   {
    "duration": 2386,
    "start_time": "2025-01-02T01:14:54.231Z"
   },
   {
    "duration": 379,
    "start_time": "2025-01-02T01:22:05.910Z"
   },
   {
    "duration": 496,
    "start_time": "2025-01-02T01:23:52.589Z"
   },
   {
    "duration": 2798,
    "start_time": "2025-01-02T20:08:21.176Z"
   },
   {
    "duration": 483,
    "start_time": "2025-01-02T20:08:23.977Z"
   },
   {
    "duration": 94,
    "start_time": "2025-01-02T20:08:24.462Z"
   },
   {
    "duration": 100,
    "start_time": "2025-01-02T20:08:30.246Z"
   },
   {
    "duration": 80,
    "start_time": "2025-01-02T20:09:02.691Z"
   },
   {
    "duration": 88,
    "start_time": "2025-01-02T20:09:03.537Z"
   },
   {
    "duration": 226,
    "start_time": "2025-01-02T20:09:03.848Z"
   },
   {
    "duration": 489,
    "start_time": "2025-01-02T20:09:04.403Z"
   },
   {
    "duration": 101,
    "start_time": "2025-01-02T20:09:06.543Z"
   },
   {
    "duration": 1326,
    "start_time": "2025-01-02T20:09:07.184Z"
   },
   {
    "duration": 175,
    "start_time": "2025-01-02T20:09:08.512Z"
   },
   {
    "duration": 2461,
    "start_time": "2025-01-02T20:09:08.690Z"
   },
   {
    "duration": 394,
    "start_time": "2025-01-02T20:09:11.528Z"
   },
   {
    "duration": 433,
    "start_time": "2025-01-02T20:09:13.512Z"
   },
   {
    "duration": 426,
    "start_time": "2025-01-02T20:09:17.611Z"
   },
   {
    "duration": 3,
    "start_time": "2025-01-02T20:16:50.840Z"
   },
   {
    "duration": 393,
    "start_time": "2025-01-02T20:16:51.278Z"
   },
   {
    "duration": 100,
    "start_time": "2025-01-02T20:16:51.673Z"
   },
   {
    "duration": 90,
    "start_time": "2025-01-02T20:16:52.533Z"
   },
   {
    "duration": 64,
    "start_time": "2025-01-02T20:16:52.897Z"
   },
   {
    "duration": 85,
    "start_time": "2025-01-02T20:16:53.235Z"
   },
   {
    "duration": 189,
    "start_time": "2025-01-02T20:16:53.453Z"
   },
   {
    "duration": 401,
    "start_time": "2025-01-02T20:16:53.708Z"
   },
   {
    "duration": 93,
    "start_time": "2025-01-02T20:16:54.111Z"
   },
   {
    "duration": 1306,
    "start_time": "2025-01-02T20:16:54.291Z"
   },
   {
    "duration": 164,
    "start_time": "2025-01-02T20:16:55.599Z"
   },
   {
    "duration": 2513,
    "start_time": "2025-01-02T20:16:55.765Z"
   },
   {
    "duration": 395,
    "start_time": "2025-01-02T20:16:58.280Z"
   },
   {
    "duration": 454,
    "start_time": "2025-01-02T20:16:58.677Z"
   },
   {
    "duration": 421,
    "start_time": "2025-01-02T20:16:59.134Z"
   },
   {
    "duration": 518,
    "start_time": "2025-01-02T20:16:59.557Z"
   },
   {
    "duration": 2992,
    "start_time": "2025-01-02T20:17:00.078Z"
   },
   {
    "duration": 1157,
    "start_time": "2025-01-03T03:22:02.351Z"
   },
   {
    "duration": 484,
    "start_time": "2025-01-03T03:22:03.510Z"
   },
   {
    "duration": 95,
    "start_time": "2025-01-03T03:22:03.997Z"
   },
   {
    "duration": 89,
    "start_time": "2025-01-03T03:22:04.206Z"
   },
   {
    "duration": 67,
    "start_time": "2025-01-03T03:22:47.096Z"
   },
   {
    "duration": 85,
    "start_time": "2025-01-03T03:22:47.380Z"
   },
   {
    "duration": 237,
    "start_time": "2025-01-03T03:22:47.468Z"
   },
   {
    "duration": 497,
    "start_time": "2025-01-03T03:22:47.707Z"
   },
   {
    "duration": 97,
    "start_time": "2025-01-03T03:22:48.206Z"
   },
   {
    "duration": 1359,
    "start_time": "2025-01-03T03:22:48.304Z"
   },
   {
    "duration": 169,
    "start_time": "2025-01-03T03:22:49.665Z"
   },
   {
    "duration": 2451,
    "start_time": "2025-01-03T03:22:49.836Z"
   },
   {
    "duration": 462,
    "start_time": "2025-01-03T03:22:52.289Z"
   },
   {
    "duration": 359,
    "start_time": "2025-01-03T03:22:52.753Z"
   },
   {
    "duration": 458,
    "start_time": "2025-01-03T03:22:53.113Z"
   },
   {
    "duration": 518,
    "start_time": "2025-01-03T03:24:22.308Z"
   },
   {
    "duration": 482,
    "start_time": "2025-01-03T03:28:29.924Z"
   },
   {
    "duration": 2881,
    "start_time": "2025-01-03T03:28:37.827Z"
   },
   {
    "duration": 0,
    "start_time": "2025-01-03T03:51:35.647Z"
   },
   {
    "duration": 2781,
    "start_time": "2025-01-03T04:42:07.667Z"
   },
   {
    "duration": 460,
    "start_time": "2025-01-03T04:42:10.450Z"
   },
   {
    "duration": 91,
    "start_time": "2025-01-03T04:42:10.911Z"
   },
   {
    "duration": 97,
    "start_time": "2025-01-03T04:42:11.004Z"
   },
   {
    "duration": 73,
    "start_time": "2025-01-03T04:42:11.103Z"
   },
   {
    "duration": 93,
    "start_time": "2025-01-03T04:42:11.177Z"
   },
   {
    "duration": 228,
    "start_time": "2025-01-03T04:42:11.272Z"
   },
   {
    "duration": 469,
    "start_time": "2025-01-03T04:42:11.502Z"
   },
   {
    "duration": 99,
    "start_time": "2025-01-03T04:42:11.973Z"
   },
   {
    "duration": 1320,
    "start_time": "2025-01-03T04:42:12.133Z"
   },
   {
    "duration": 181,
    "start_time": "2025-01-03T04:42:13.456Z"
   },
   {
    "duration": 165,
    "start_time": "2025-01-03T04:42:13.968Z"
   },
   {
    "duration": 5,
    "start_time": "2025-01-03T04:42:34.674Z"
   },
   {
    "duration": 189,
    "start_time": "2025-01-03T04:42:38.366Z"
   },
   {
    "duration": 210,
    "start_time": "2025-01-03T04:44:53.118Z"
   },
   {
    "duration": 193,
    "start_time": "2025-01-03T04:45:00.470Z"
   },
   {
    "duration": 232,
    "start_time": "2025-01-03T04:45:20.677Z"
   },
   {
    "duration": 8,
    "start_time": "2025-01-03T04:45:59.854Z"
   },
   {
    "duration": 9,
    "start_time": "2025-01-03T04:47:14.868Z"
   },
   {
    "duration": 35,
    "start_time": "2025-01-03T04:47:47.421Z"
   },
   {
    "duration": 27,
    "start_time": "2025-01-03T04:47:53.778Z"
   },
   {
    "duration": 7,
    "start_time": "2025-01-03T04:48:05.695Z"
   },
   {
    "duration": 43,
    "start_time": "2025-01-03T04:49:02.852Z"
   },
   {
    "duration": 36,
    "start_time": "2025-01-03T04:49:27.327Z"
   },
   {
    "duration": 4,
    "start_time": "2025-01-03T04:49:41.049Z"
   },
   {
    "duration": 400,
    "start_time": "2025-01-03T04:49:41.213Z"
   },
   {
    "duration": 89,
    "start_time": "2025-01-03T04:49:41.615Z"
   },
   {
    "duration": 90,
    "start_time": "2025-01-03T04:49:41.706Z"
   },
   {
    "duration": 64,
    "start_time": "2025-01-03T04:49:42.373Z"
   },
   {
    "duration": 90,
    "start_time": "2025-01-03T04:49:44.483Z"
   },
   {
    "duration": 192,
    "start_time": "2025-01-03T04:49:44.691Z"
   },
   {
    "duration": 389,
    "start_time": "2025-01-03T04:49:44.920Z"
   },
   {
    "duration": 88,
    "start_time": "2025-01-03T04:49:46.209Z"
   },
   {
    "duration": 1298,
    "start_time": "2025-01-03T04:49:46.888Z"
   },
   {
    "duration": 229,
    "start_time": "2025-01-03T04:49:48.331Z"
   },
   {
    "duration": 300,
    "start_time": "2025-01-03T04:50:00.548Z"
   },
   {
    "duration": 7,
    "start_time": "2025-01-03T04:50:03.518Z"
   },
   {
    "duration": 31,
    "start_time": "2025-01-03T04:50:22.451Z"
   },
   {
    "duration": 37,
    "start_time": "2025-01-03T04:51:22.075Z"
   },
   {
    "duration": 28,
    "start_time": "2025-01-03T04:51:37.066Z"
   },
   {
    "duration": 147,
    "start_time": "2025-01-03T04:51:40.431Z"
   },
   {
    "duration": 30,
    "start_time": "2025-01-03T04:52:29.994Z"
   },
   {
    "duration": 11,
    "start_time": "2025-01-03T04:52:39.741Z"
   },
   {
    "duration": 179,
    "start_time": "2025-01-03T04:52:43.025Z"
   },
   {
    "duration": 8,
    "start_time": "2025-01-03T04:52:47.660Z"
   },
   {
    "duration": 8,
    "start_time": "2025-01-03T04:54:30.115Z"
   },
   {
    "duration": 19,
    "start_time": "2025-01-03T04:54:31.811Z"
   },
   {
    "duration": 299,
    "start_time": "2025-01-03T04:55:28.721Z"
   },
   {
    "duration": 7,
    "start_time": "2025-01-03T04:56:05.040Z"
   },
   {
    "duration": 20,
    "start_time": "2025-01-03T04:56:06.041Z"
   },
   {
    "duration": 150,
    "start_time": "2025-01-03T04:56:07.553Z"
   },
   {
    "duration": 2671,
    "start_time": "2025-01-03T04:58:36.313Z"
   },
   {
    "duration": 483,
    "start_time": "2025-01-03T04:58:38.986Z"
   },
   {
    "duration": 89,
    "start_time": "2025-01-03T04:58:39.471Z"
   },
   {
    "duration": 104,
    "start_time": "2025-01-03T04:58:39.563Z"
   },
   {
    "duration": 73,
    "start_time": "2025-01-03T04:58:39.669Z"
   },
   {
    "duration": 83,
    "start_time": "2025-01-03T04:58:39.745Z"
   },
   {
    "duration": 234,
    "start_time": "2025-01-03T04:58:39.831Z"
   },
   {
    "duration": 461,
    "start_time": "2025-01-03T04:58:40.067Z"
   },
   {
    "duration": 89,
    "start_time": "2025-01-03T04:58:45.703Z"
   },
   {
    "duration": 1330,
    "start_time": "2025-01-03T04:58:45.829Z"
   },
   {
    "duration": 367,
    "start_time": "2025-01-03T04:58:47.162Z"
   },
   {
    "duration": 15,
    "start_time": "2025-01-03T04:58:47.530Z"
   },
   {
    "duration": 28,
    "start_time": "2025-01-03T04:58:47.547Z"
   },
   {
    "duration": 161,
    "start_time": "2025-01-03T04:58:47.577Z"
   },
   {
    "duration": 4,
    "start_time": "2025-01-03T04:59:34.274Z"
   },
   {
    "duration": 149,
    "start_time": "2025-01-03T05:00:40.986Z"
   },
   {
    "duration": 2409,
    "start_time": "2025-01-03T05:00:41.474Z"
   },
   {
    "duration": 392,
    "start_time": "2025-01-03T05:00:43.885Z"
   },
   {
    "duration": 408,
    "start_time": "2025-01-03T05:00:44.279Z"
   },
   {
    "duration": 414,
    "start_time": "2025-01-03T05:01:00.776Z"
   },
   {
    "duration": 271,
    "start_time": "2025-01-03T05:02:30.138Z"
   },
   {
    "duration": 480,
    "start_time": "2025-01-03T05:02:35.519Z"
   },
   {
    "duration": 2803,
    "start_time": "2025-01-03T05:02:38.064Z"
   },
   {
    "duration": 3,
    "start_time": "2025-01-03T05:11:31.770Z"
   },
   {
    "duration": 383,
    "start_time": "2025-01-03T05:11:32.052Z"
   },
   {
    "duration": 91,
    "start_time": "2025-01-03T05:11:32.437Z"
   },
   {
    "duration": 94,
    "start_time": "2025-01-03T05:11:32.530Z"
   },
   {
    "duration": 65,
    "start_time": "2025-01-03T05:11:33.534Z"
   },
   {
    "duration": 84,
    "start_time": "2025-01-03T05:11:35.645Z"
   },
   {
    "duration": 194,
    "start_time": "2025-01-03T05:11:36.683Z"
   },
   {
    "duration": 391,
    "start_time": "2025-01-03T05:11:37.824Z"
   },
   {
    "duration": 90,
    "start_time": "2025-01-03T05:11:38.232Z"
   },
   {
    "duration": 1306,
    "start_time": "2025-01-03T05:11:38.944Z"
   },
   {
    "duration": 312,
    "start_time": "2025-01-03T05:11:40.253Z"
   },
   {
    "duration": 12,
    "start_time": "2025-01-03T05:13:46.045Z"
   },
   {
    "duration": 16,
    "start_time": "2025-01-03T05:14:05.070Z"
   },
   {
    "duration": 14,
    "start_time": "2025-01-03T05:14:28.044Z"
   },
   {
    "duration": 22,
    "start_time": "2025-01-03T05:15:31.755Z"
   },
   {
    "duration": 21,
    "start_time": "2025-01-03T05:18:20.203Z"
   },
   {
    "duration": 20,
    "start_time": "2025-01-03T05:20:16.450Z"
   },
   {
    "duration": 24,
    "start_time": "2025-01-03T05:20:46.756Z"
   },
   {
    "duration": 77,
    "start_time": "2025-01-03T05:20:53.856Z"
   },
   {
    "duration": 19,
    "start_time": "2025-01-03T05:21:06.417Z"
   },
   {
    "duration": 21,
    "start_time": "2025-01-03T05:21:44.037Z"
   },
   {
    "duration": 20,
    "start_time": "2025-01-03T05:22:05.930Z"
   },
   {
    "duration": 78,
    "start_time": "2025-01-03T05:22:16.906Z"
   },
   {
    "duration": 21,
    "start_time": "2025-01-03T05:22:47.632Z"
   },
   {
    "duration": 20,
    "start_time": "2025-01-03T05:22:59.412Z"
   },
   {
    "duration": 329,
    "start_time": "2025-01-03T05:23:59.785Z"
   },
   {
    "duration": 241,
    "start_time": "2025-01-03T05:24:12.707Z"
   },
   {
    "duration": 122,
    "start_time": "2025-01-03T05:24:46.658Z"
   },
   {
    "duration": 142,
    "start_time": "2025-01-03T05:24:57.400Z"
   },
   {
    "duration": 120,
    "start_time": "2025-01-03T05:25:36.600Z"
   },
   {
    "duration": 129,
    "start_time": "2025-01-03T05:26:30.688Z"
   },
   {
    "duration": 443,
    "start_time": "2025-01-03T05:27:24.409Z"
   },
   {
    "duration": 17,
    "start_time": "2025-01-03T05:27:59.266Z"
   },
   {
    "duration": 20,
    "start_time": "2025-01-03T05:29:51.677Z"
   },
   {
    "duration": 20,
    "start_time": "2025-01-03T05:30:49.366Z"
   },
   {
    "duration": 69,
    "start_time": "2025-01-03T05:30:59.995Z"
   },
   {
    "duration": 18,
    "start_time": "2025-01-03T05:31:35.874Z"
   },
   {
    "duration": 131,
    "start_time": "2025-01-03T05:31:59.101Z"
   },
   {
    "duration": 131,
    "start_time": "2025-01-03T05:32:25.195Z"
   },
   {
    "duration": 2517,
    "start_time": "2025-01-03T05:32:25.803Z"
   },
   {
    "duration": 394,
    "start_time": "2025-01-03T05:32:28.322Z"
   },
   {
    "duration": 271,
    "start_time": "2025-01-03T05:32:28.719Z"
   },
   {
    "duration": 415,
    "start_time": "2025-01-03T05:32:34.333Z"
   },
   {
    "duration": 383,
    "start_time": "2025-01-03T05:32:35.617Z"
   },
   {
    "duration": 444,
    "start_time": "2025-01-03T05:33:31.745Z"
   },
   {
    "duration": 450,
    "start_time": "2025-01-03T05:33:33.962Z"
   },
   {
    "duration": 2260,
    "start_time": "2025-01-03T05:33:36.027Z"
   },
   {
    "duration": 2293,
    "start_time": "2025-01-03T05:34:09.695Z"
   },
   {
    "duration": 2839,
    "start_time": "2025-01-03T06:03:46.067Z"
   },
   {
    "duration": 478,
    "start_time": "2025-01-03T06:03:48.909Z"
   },
   {
    "duration": 98,
    "start_time": "2025-01-03T06:03:49.389Z"
   },
   {
    "duration": 86,
    "start_time": "2025-01-03T06:03:49.489Z"
   },
   {
    "duration": 63,
    "start_time": "2025-01-03T06:03:49.586Z"
   },
   {
    "duration": 89,
    "start_time": "2025-01-03T06:03:49.651Z"
   },
   {
    "duration": 235,
    "start_time": "2025-01-03T06:03:49.741Z"
   },
   {
    "duration": 472,
    "start_time": "2025-01-03T06:03:49.978Z"
   },
   {
    "duration": 98,
    "start_time": "2025-01-03T06:03:50.452Z"
   },
   {
    "duration": 1375,
    "start_time": "2025-01-03T06:03:50.552Z"
   },
   {
    "duration": 399,
    "start_time": "2025-01-03T06:03:51.928Z"
   },
   {
    "duration": 21,
    "start_time": "2025-01-03T06:03:52.329Z"
   },
   {
    "duration": 41,
    "start_time": "2025-01-03T06:03:52.352Z"
   },
   {
    "duration": 2,
    "start_time": "2025-01-03T06:03:52.396Z"
   },
   {
    "duration": 127,
    "start_time": "2025-01-03T06:03:52.400Z"
   },
   {
    "duration": 139,
    "start_time": "2025-01-03T06:03:52.529Z"
   },
   {
    "duration": 19,
    "start_time": "2025-01-03T06:03:52.671Z"
   },
   {
    "duration": 23,
    "start_time": "2025-01-03T06:03:52.692Z"
   },
   {
    "duration": 148,
    "start_time": "2025-01-03T06:03:52.716Z"
   },
   {
    "duration": 138,
    "start_time": "2025-01-03T06:03:52.865Z"
   },
   {
    "duration": 2608,
    "start_time": "2025-01-03T06:03:53.005Z"
   },
   {
    "duration": 392,
    "start_time": "2025-01-03T06:03:55.615Z"
   },
   {
    "duration": 294,
    "start_time": "2025-01-03T06:03:56.009Z"
   },
   {
    "duration": 365,
    "start_time": "2025-01-03T06:03:56.305Z"
   },
   {
    "duration": 501,
    "start_time": "2025-01-03T06:03:56.672Z"
   },
   {
    "duration": 2315,
    "start_time": "2025-01-03T06:03:57.174Z"
   },
   {
    "duration": 991664,
    "start_time": "2025-01-03T06:03:59.491Z"
   },
   {
    "duration": 3006,
    "start_time": "2025-01-03T06:20:31.158Z"
   },
   {
    "duration": 11,
    "start_time": "2025-01-03T06:24:55.510Z"
   },
   {
    "duration": 151,
    "start_time": "2025-01-03T06:25:01.358Z"
   },
   {
    "duration": 302,
    "start_time": "2025-01-03T06:25:13.775Z"
   },
   {
    "duration": 2825,
    "start_time": "2025-01-03T06:30:01.266Z"
   },
   {
    "duration": 539,
    "start_time": "2025-01-03T06:30:04.093Z"
   },
   {
    "duration": 96,
    "start_time": "2025-01-03T06:30:04.633Z"
   },
   {
    "duration": 98,
    "start_time": "2025-01-03T06:30:04.732Z"
   },
   {
    "duration": 67,
    "start_time": "2025-01-03T06:30:09.011Z"
   },
   {
    "duration": 87,
    "start_time": "2025-01-03T06:30:09.752Z"
   },
   {
    "duration": 225,
    "start_time": "2025-01-03T06:30:10.200Z"
   },
   {
    "duration": 479,
    "start_time": "2025-01-03T06:30:10.740Z"
   },
   {
    "duration": 90,
    "start_time": "2025-01-03T06:30:11.538Z"
   },
   {
    "duration": 1330,
    "start_time": "2025-01-03T06:30:12.587Z"
   },
   {
    "duration": 338,
    "start_time": "2025-01-03T06:30:13.925Z"
   },
   {
    "duration": 22,
    "start_time": "2025-01-03T06:30:14.266Z"
   },
   {
    "duration": 28,
    "start_time": "2025-01-03T06:30:14.446Z"
   },
   {
    "duration": 3,
    "start_time": "2025-01-03T06:30:15.762Z"
   },
   {
    "duration": 124,
    "start_time": "2025-01-03T06:30:16.333Z"
   },
   {
    "duration": 138,
    "start_time": "2025-01-03T06:30:17.383Z"
   },
   {
    "duration": 16,
    "start_time": "2025-01-03T06:30:17.956Z"
   },
   {
    "duration": 22,
    "start_time": "2025-01-03T06:30:18.898Z"
   },
   {
    "duration": 131,
    "start_time": "2025-01-03T06:30:19.954Z"
   },
   {
    "duration": 132,
    "start_time": "2025-01-03T06:30:22.083Z"
   },
   {
    "duration": 2532,
    "start_time": "2025-01-03T06:30:23.427Z"
   },
   {
    "duration": 404,
    "start_time": "2025-01-03T06:30:25.962Z"
   },
   {
    "duration": 283,
    "start_time": "2025-01-03T06:30:26.369Z"
   },
   {
    "duration": 356,
    "start_time": "2025-01-03T06:30:29.696Z"
   },
   {
    "duration": 486,
    "start_time": "2025-01-03T06:30:30.138Z"
   },
   {
    "duration": 2393,
    "start_time": "2025-01-03T06:30:31.551Z"
   },
   {
    "duration": 977295,
    "start_time": "2025-01-03T06:30:33.947Z"
   },
   {
    "duration": 2909,
    "start_time": "2025-01-03T06:47:07.048Z"
   },
   {
    "duration": 181565,
    "start_time": "2025-01-03T06:47:14.071Z"
   },
   {
    "duration": 1474,
    "start_time": "2025-01-03T06:50:36.250Z"
   },
   {
    "duration": 2890,
    "start_time": "2025-01-03T06:51:35.931Z"
   },
   {
    "duration": 6076,
    "start_time": "2025-01-03T06:51:58.065Z"
   }
  ],
  "kernelspec": {
   "display_name": "Python 3 (ipykernel)",
   "language": "python",
   "name": "python3"
  },
  "language_info": {
   "codemirror_mode": {
    "name": "ipython",
    "version": 3
   },
   "file_extension": ".py",
   "mimetype": "text/x-python",
   "name": "python",
   "nbconvert_exporter": "python",
   "pygments_lexer": "ipython3",
   "version": "3.9.19"
  },
  "toc": {
   "base_numbering": 1,
   "nav_menu": {},
   "number_sections": true,
   "sideBar": true,
   "skip_h1_title": true,
   "title_cell": "Table of Contents",
   "title_sidebar": "Contents",
   "toc_cell": false,
   "toc_position": {
    "height": "calc(100% - 180px)",
    "left": "10px",
    "top": "150px",
    "width": "224.6px"
   },
   "toc_section_display": true,
   "toc_window_display": true
  }
 },
 "nbformat": 4,
 "nbformat_minor": 2
}
